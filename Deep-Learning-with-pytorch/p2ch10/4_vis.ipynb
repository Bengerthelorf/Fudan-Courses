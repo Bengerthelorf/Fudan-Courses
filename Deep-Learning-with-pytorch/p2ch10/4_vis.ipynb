{
 "cells": [
  {
   "cell_type": "code",
   "execution_count": 1,
   "metadata": {},
   "outputs": [],
   "source": [
    "import matplotlib\n",
    "matplotlib.use('nbagg')\n",
    "\n",
    "import numpy as np\n",
    "import matplotlib.pyplot as plt"
   ]
  },
  {
   "cell_type": "markdown",
   "metadata": {},
   "source": [
    "---\n",
    "\n",
    "> `from p2ch10.dsets import Ct, LunaDataset`"
   ]
  },
  {
   "cell_type": "code",
   "execution_count": 2,
   "metadata": {},
   "outputs": [],
   "source": [
    "%run '3_lunaDataset.ipynb'"
   ]
  },
  {
   "cell_type": "markdown",
   "metadata": {},
   "source": [
    "---"
   ]
  },
  {
   "cell_type": "code",
   "execution_count": 4,
   "metadata": {},
   "outputs": [],
   "source": [
    "clim=(-1000.0, 300)"
   ]
  },
  {
   "cell_type": "code",
   "execution_count": 3,
   "metadata": {},
   "outputs": [],
   "source": [
    "def findPositiveSamples(start_ndx=0, limit=100):\n",
    "    ds = LunaDataset()\n",
    "\n",
    "    positiveSample_list = []\n",
    "    for sample_tup in ds.candidateInfo_list:\n",
    "        if sample_tup.isNodule_bool:\n",
    "            print(len(positiveSample_list), sample_tup)\n",
    "            positiveSample_list.append(sample_tup)\n",
    "\n",
    "        if len(positiveSample_list) >= limit:\n",
    "            break\n",
    "\n",
    "    return positiveSample_list"
   ]
  },
  {
   "cell_type": "code",
   "execution_count": 5,
   "metadata": {},
   "outputs": [],
   "source": [
    "def showCandidate(series_uid, batch_ndx=None, **kwargs):\n",
    "    ds = LunaDataset(series_uid=series_uid, **kwargs)\n",
    "    pos_list = [i for i, x in enumerate(ds.candidateInfo_list) if x.isNodule_bool]\n",
    "\n",
    "    if batch_ndx is None:\n",
    "        if pos_list:\n",
    "            batch_ndx = pos_list[0]\n",
    "        else:\n",
    "            print(\"Warning: no positive samples found; using first negative sample.\")\n",
    "            batch_ndx = 0\n",
    "\n",
    "    ct = Ct(series_uid)\n",
    "    ct_t, pos_t, series_uid, center_irc = ds[batch_ndx]\n",
    "    ct_a = ct_t[0].numpy()\n",
    "\n",
    "    fig = plt.figure(figsize=(30, 50))\n",
    "\n",
    "    group_list = [\n",
    "        [9, 11, 13],\n",
    "        [15, 16, 17],\n",
    "        [19, 21, 23],\n",
    "    ]\n",
    "\n",
    "    subplot = fig.add_subplot(len(group_list) + 2, 3, 1)\n",
    "    subplot.set_title('index {}'.format(int(center_irc[0])), fontsize=30)\n",
    "    for label in (subplot.get_xticklabels() + subplot.get_yticklabels()):\n",
    "        label.set_fontsize(20)\n",
    "    plt.imshow(ct.hu_a[int(center_irc[0])], clim=clim, cmap='gray')\n",
    "\n",
    "    subplot = fig.add_subplot(len(group_list) + 2, 3, 2)\n",
    "    subplot.set_title('row {}'.format(int(center_irc[1])), fontsize=30)\n",
    "    for label in (subplot.get_xticklabels() + subplot.get_yticklabels()):\n",
    "        label.set_fontsize(20)\n",
    "    plt.imshow(ct.hu_a[:,int(center_irc[1])], clim=clim, cmap='gray')\n",
    "    plt.gca().invert_yaxis()\n",
    "\n",
    "    subplot = fig.add_subplot(len(group_list) + 2, 3, 3)\n",
    "    subplot.set_title('col {}'.format(int(center_irc[2])), fontsize=30)\n",
    "    for label in (subplot.get_xticklabels() + subplot.get_yticklabels()):\n",
    "        label.set_fontsize(20)\n",
    "    plt.imshow(ct.hu_a[:,:,int(center_irc[2])], clim=clim, cmap='gray')\n",
    "    plt.gca().invert_yaxis()\n",
    "\n",
    "    subplot = fig.add_subplot(len(group_list) + 2, 3, 4)\n",
    "    subplot.set_title('index {}'.format(int(center_irc[0])), fontsize=30)\n",
    "    for label in (subplot.get_xticklabels() + subplot.get_yticklabels()):\n",
    "        label.set_fontsize(20)\n",
    "    plt.imshow(ct_a[ct_a.shape[0]//2], clim=clim, cmap='gray')\n",
    "\n",
    "    subplot = fig.add_subplot(len(group_list) + 2, 3, 5)\n",
    "    subplot.set_title('row {}'.format(int(center_irc[1])), fontsize=30)\n",
    "    for label in (subplot.get_xticklabels() + subplot.get_yticklabels()):\n",
    "        label.set_fontsize(20)\n",
    "    plt.imshow(ct_a[:,ct_a.shape[1]//2], clim=clim, cmap='gray')\n",
    "    plt.gca().invert_yaxis()\n",
    "\n",
    "    subplot = fig.add_subplot(len(group_list) + 2, 3, 6)\n",
    "    subplot.set_title('col {}'.format(int(center_irc[2])), fontsize=30)\n",
    "    for label in (subplot.get_xticklabels() + subplot.get_yticklabels()):\n",
    "        label.set_fontsize(20)\n",
    "    plt.imshow(ct_a[:,:,ct_a.shape[2]//2], clim=clim, cmap='gray')\n",
    "    plt.gca().invert_yaxis()\n",
    "\n",
    "    for row, index_list in enumerate(group_list):\n",
    "        for col, index in enumerate(index_list):\n",
    "            subplot = fig.add_subplot(len(group_list) + 2, 3, row * 3 + col + 7)\n",
    "            subplot.set_title('slice {}'.format(index), fontsize=30)\n",
    "            for label in (subplot.get_xticklabels() + subplot.get_yticklabels()):\n",
    "                label.set_fontsize(20)\n",
    "            plt.imshow(ct_a[index], clim=clim, cmap='gray')\n",
    "\n",
    "\n",
    "    print(series_uid, batch_ndx, bool(pos_t[0]), pos_list)"
   ]
  }
 ],
 "metadata": {
  "kernelspec": {
   "display_name": "mytorch",
   "language": "python",
   "name": "python3"
  },
  "language_info": {
   "codemirror_mode": {
    "name": "ipython",
    "version": 3
   },
   "file_extension": ".py",
   "mimetype": "text/x-python",
   "name": "python",
   "nbconvert_exporter": "python",
   "pygments_lexer": "ipython3",
   "version": "3.11.5"
  }
 },
 "nbformat": 4,
 "nbformat_minor": 2
}
