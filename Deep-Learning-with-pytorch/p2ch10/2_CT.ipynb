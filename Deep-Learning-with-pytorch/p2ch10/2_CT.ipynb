{
 "cells": [
  {
   "cell_type": "markdown",
   "metadata": {},
   "source": [
    "# 读取和处理CT文件"
   ]
  },
  {
   "cell_type": "code",
   "execution_count": 83,
   "metadata": {},
   "outputs": [],
   "source": [
    "# 读取上一个notebook的数据\n",
    "\n",
    "%run '1_candidate_&_annotation.ipynb'"
   ]
  },
  {
   "cell_type": "code",
   "execution_count": 84,
   "metadata": {},
   "outputs": [],
   "source": [
    "import collections\n",
    "\n",
    "import SimpleITK as sitk"
   ]
  },
  {
   "cell_type": "code",
   "execution_count": 85,
   "metadata": {},
   "outputs": [],
   "source": [
    "series_uid = '1.3.6.1.4.1.14519.5.2.1.6279.6001.100684836163890911914061745866'"
   ]
  },
  {
   "cell_type": "code",
   "execution_count": 86,
   "metadata": {},
   "outputs": [
    {
     "data": {
      "text/plain": [
       "'/home/ben/Datasets/luna16/subset1/1.3.6.1.4.1.14519.5.2.1.6279.6001.100684836163890911914061745866.mhd'"
      ]
     },
     "execution_count": 86,
     "metadata": {},
     "output_type": "execute_result"
    }
   ],
   "source": [
    "mhd_list = list(chain.from_iterable(glob.glob(path + f'subset{i}/{series_uid}.mhd') for i in range(2)))[0]\n",
    "\n",
    "mhd_list"
   ]
  },
  {
   "cell_type": "markdown",
   "metadata": {},
   "source": [
    "原代码:\n",
    "\n",
    "```python\n",
    "mhd_list = glob.glob(path + f'subset{range(2)}/{series_uid}.mhd')\n",
    "mhd_list\n",
    "```\n",
    "\n",
    "**Zane**:\n",
    "\n",
    "This code is unable to read the contents of `subset1` after execution. How should I modify it?\n",
    "\n",
    "**Copilot**:\n",
    "\n",
    "你的代码试图在一个字符串中使用 `range(2)`，这会导致问题，因为 `range(2)` 实际上是一个迭代器，它生成一个序列 `[0, 1]`，而不是一个单独的数字。你需要在循环中为每个子目录生成一个文件路径。\n",
    "\n",
    "你可以使用列表推导式和 `itertools.chain.from_iterable` 来修改你的代码，如下所示：\n",
    "\n",
    "```python\n",
    "from itertools import chain\n",
    "\n",
    "mhd_list = list(chain.from_iterable(glob.glob(path + f'subset{i}/{series_uid}.mhd') for i in range(2)))\n",
    "```\n",
    "\n",
    "这段代码会为每个子目录生成一个文件路径，然后使用 `glob.glob` 来获取每个路径下的 .mhd 文件。最后，`chain.from_iterable` 将所有文件连接成一个列表。"
   ]
  },
  {
   "cell_type": "code",
   "execution_count": 87,
   "metadata": {},
   "outputs": [
    {
     "data": {
      "text/plain": [
       "array([[[ -990., -1007., -1016., ...,  -988.,  -973.,  -966.],\n",
       "        [ -985., -1001., -1014., ...,  -978.,  -960.,  -961.],\n",
       "        [ -994., -1013., -1017., ...,  -972.,  -956.,  -969.],\n",
       "        ...,\n",
       "        [ -941.,  -953.,  -959., ...,  -918.,  -917.,  -943.],\n",
       "        [ -960.,  -981.,  -979., ...,  -929.,  -903.,  -926.],\n",
       "        [ -978.,  -980.,  -965., ...,  -953.,  -925.,  -924.]],\n",
       "\n",
       "       [[ -996., -1019., -1019., ...,  -998.,  -997.,  -994.],\n",
       "        [ -989., -1005., -1011., ...,  -991.,  -991.,  -988.],\n",
       "        [ -987.,  -996.,  -996., ...,  -989.,  -993.,  -991.],\n",
       "        ...,\n",
       "        [ -974.,  -972.,  -953., ...,  -946.,  -949.,  -964.],\n",
       "        [ -974.,  -984.,  -965., ...,  -948.,  -944.,  -963.],\n",
       "        [ -989.,  -992.,  -969., ...,  -948.,  -949.,  -971.]],\n",
       "\n",
       "       [[-1009., -1014., -1008., ..., -1010., -1014., -1011.],\n",
       "        [ -997.,  -992.,  -999., ..., -1003., -1005.,  -991.],\n",
       "        [ -999.,  -987.,  -981., ...,  -988.,  -994.,  -986.],\n",
       "        ...,\n",
       "        [ -966.,  -950.,  -915., ...,  -937.,  -939.,  -944.],\n",
       "        [ -949.,  -933.,  -922., ...,  -932.,  -934.,  -940.],\n",
       "        [ -945.,  -936.,  -943., ...,  -933.,  -924.,  -935.]],\n",
       "\n",
       "       ...,\n",
       "\n",
       "       [[ -982.,  -973.,  -979., ...,  -982.,  -982., -1008.],\n",
       "        [ -992.,  -978.,  -976., ...,  -984.,  -981., -1004.],\n",
       "        [-1003., -1000.,  -989., ...,  -988.,  -995., -1011.],\n",
       "        ...,\n",
       "        [ -974.,  -963.,  -963., ...,  -930.,  -922.,  -939.],\n",
       "        [ -960.,  -953.,  -953., ...,  -950.,  -936.,  -940.],\n",
       "        [ -952.,  -956.,  -955., ...,  -950.,  -946.,  -945.]],\n",
       "\n",
       "       [[-1015., -1001.,  -992., ...,  -972., -1001., -1018.],\n",
       "        [-1014.,  -995.,  -984., ...,  -992.,  -987., -1001.],\n",
       "        [-1012.,  -996.,  -980., ..., -1018.,  -996.,  -995.],\n",
       "        ...,\n",
       "        [ -945.,  -929.,  -923., ...,  -920.,  -927.,  -953.],\n",
       "        [ -961.,  -954.,  -948., ...,  -923.,  -938.,  -969.],\n",
       "        [ -969.,  -968.,  -962., ...,  -913.,  -933.,  -970.]],\n",
       "\n",
       "       [[ -999.,  -992., -1004., ...,  -996.,  -998., -1008.],\n",
       "        [ -992.,  -977.,  -992., ..., -1000.,  -995., -1011.],\n",
       "        [ -991.,  -978.,  -992., ..., -1003., -1006., -1016.],\n",
       "        ...,\n",
       "        [ -945.,  -932.,  -929., ...,  -951.,  -947.,  -948.],\n",
       "        [ -956.,  -947.,  -939., ...,  -951.,  -951.,  -951.],\n",
       "        [ -971.,  -955.,  -937., ...,  -961.,  -967.,  -961.]]],\n",
       "      dtype=float32)"
      ]
     },
     "execution_count": 87,
     "metadata": {},
     "output_type": "execute_result"
    }
   ],
   "source": [
    "ct_mhd = sitk.ReadImage(mhd_list)\n",
    "ct_a = np.array(sitk.GetArrayFromImage(ct_mhd), dtype=np.float32)\n",
    "\n",
    "ct_a"
   ]
  },
  {
   "cell_type": "code",
   "execution_count": 88,
   "metadata": {},
   "outputs": [
    {
     "data": {
      "text/plain": [
       "(171, 512, 512)"
      ]
     },
     "execution_count": 88,
     "metadata": {},
     "output_type": "execute_result"
    }
   ],
   "source": [
    "ct_a.shape"
   ]
  },
  {
   "cell_type": "markdown",
   "metadata": {},
   "source": [
    "> 不知道如何实现调用不同目录下的 `util`.\n",
    "\n",
    "---\n",
    "\n",
    "下面是对 `util` 中的函数的调用"
   ]
  },
  {
   "cell_type": "code",
   "execution_count": 89,
   "metadata": {},
   "outputs": [],
   "source": [
    "IrcTuple = collections.namedtuple('IrcTuple', ['index', 'row', 'col'])\n",
    "XyzTuple = collections.namedtuple('XyzTuple', ['x', 'y', 'z'])"
   ]
  },
  {
   "cell_type": "code",
   "execution_count": 90,
   "metadata": {},
   "outputs": [],
   "source": [
    "def xyz2irc(coord_xyz, origin_xyz, vxSize_xyz, direction_a):\n",
    "    origin_a = np.array(origin_xyz)\n",
    "    vxSize_a = np.array(vxSize_xyz)\n",
    "    coord_a = np.array(coord_xyz)\n",
    "    cri_a = ((coord_a - origin_a) @ np.linalg.inv(direction_a)) / vxSize_a\n",
    "    cri_a = np.round(cri_a)\n",
    "    return IrcTuple(int(cri_a[2]), int(cri_a[1]), int(cri_a[0]))"
   ]
  },
  {
   "cell_type": "code",
   "execution_count": 91,
   "metadata": {},
   "outputs": [],
   "source": [
    "def getRawCandidate(center_xyz, width_irc):\n",
    "    center_irc = xyz2irc(\n",
    "        center_xyz,\n",
    "        origin_xyz,\n",
    "        vxSize_xyz,\n",
    "        direction_a,\n",
    "    )\n",
    "\n",
    "    slice_list = []\n",
    "    for axis, center_val in enumerate(center_irc):\n",
    "        start_ndx = int(round(center_val - width_irc[axis]/2))\n",
    "        end_ndx = int(start_ndx + width_irc[axis])\n",
    "\n",
    "        assert center_val >= 0 and center_val < hu_a.shape[axis], repr([series_uid, center_xyz, origin_xyz, vxSize_xyz, center_irc, axis])\n",
    "\n",
    "        if start_ndx < 0:\n",
    "            # log.warning(\"Crop outside of CT array: {} {}, center:{} shape:{} width:{}\".format(\n",
    "            #     series_uid, center_xyz, center_irc, hu_a.shape, width_irc))\n",
    "            start_ndx = 0\n",
    "            end_ndx = int(width_irc[axis])\n",
    "\n",
    "        if end_ndx > hu_a.shape[axis]:\n",
    "            # log.warning(\"Crop outside of CT array: {} {}, center:{} shape:{} width:{}\".format(\n",
    "            #     series_uid, center_xyz, center_irc, hu_a.shape, width_irc))\n",
    "            end_ndx = hu_a.shape[axis]\n",
    "            start_ndx = int(hu_a.shape[axis] - width_irc[axis])\n",
    "\n",
    "        slice_list.append(slice(start_ndx, end_ndx))\n",
    "\n",
    "    ct_chunk = hu_a[tuple(slice_list)]\n",
    "\n",
    "    return ct_chunk, center_irc"
   ]
  },
  {
   "cell_type": "markdown",
   "metadata": {},
   "source": [
    "---"
   ]
  },
  {
   "cell_type": "code",
   "execution_count": 92,
   "metadata": {},
   "outputs": [],
   "source": [
    "hu_a = ct_a\n",
    "\n",
    "origin_xyz = XyzTuple(*ct_mhd.GetOrigin())\n",
    "vxSize_xyz = XyzTuple(*ct_mhd.GetSpacing())\n",
    "direction_a = np.array(ct_mhd.GetDirection()).reshape(3, 3)"
   ]
  },
  {
   "cell_type": "code",
   "execution_count": 93,
   "metadata": {},
   "outputs": [
    {
     "data": {
      "text/plain": [
       "(XyzTuple(x=-127.755859375, y=-277.755859375, z=-351.5),\n",
       " XyzTuple(x=0.48828125, y=0.48828125, z=1.7999999523162842),\n",
       " array([[1., 0., 0.],\n",
       "        [0., 1., 0.],\n",
       "        [0., 0., 1.]]))"
      ]
     },
     "execution_count": 93,
     "metadata": {},
     "output_type": "execute_result"
    }
   ],
   "source": [
    "origin_xyz, vxSize_xyz, direction_a"
   ]
  },
  {
   "cell_type": "code",
   "execution_count": 94,
   "metadata": {},
   "outputs": [],
   "source": [
    "a = getRawCandidate([-30, -30, -60], [10, 10, 10])"
   ]
  },
  {
   "cell_type": "code",
   "execution_count": 95,
   "metadata": {},
   "outputs": [
    {
     "data": {
      "text/plain": [
       "(numpy.ndarray, (10, 10, 10))"
      ]
     },
     "execution_count": 95,
     "metadata": {},
     "output_type": "execute_result"
    }
   ],
   "source": [
    "type(a[0]), a[0].shape"
   ]
  },
  {
   "cell_type": "code",
   "execution_count": 96,
   "metadata": {},
   "outputs": [
    {
     "data": {
      "text/plain": [
       "(__main__.IrcTuple, IrcTuple(index=162, row=507, col=200))"
      ]
     },
     "execution_count": 96,
     "metadata": {},
     "output_type": "execute_result"
    }
   ],
   "source": [
    "type(a[1]), a[1]"
   ]
  }
 ],
 "metadata": {
  "kernelspec": {
   "display_name": "mytorch",
   "language": "python",
   "name": "python3"
  },
  "language_info": {
   "codemirror_mode": {
    "name": "ipython",
    "version": 3
   },
   "file_extension": ".py",
   "mimetype": "text/x-python",
   "name": "python",
   "nbconvert_exporter": "python",
   "pygments_lexer": "ipython3",
   "version": "3.11.5"
  }
 },
 "nbformat": 4,
 "nbformat_minor": 2
}
