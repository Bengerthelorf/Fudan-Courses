{
 "cells": [
  {
   "cell_type": "markdown",
   "metadata": {},
   "source": [
    "# 1"
   ]
  },
  {
   "cell_type": "code",
   "execution_count": 1,
   "metadata": {},
   "outputs": [
    {
     "data": {
      "text/plain": [
       "<torch._C.Generator at 0x7fe7dc17cad0>"
      ]
     },
     "execution_count": 1,
     "metadata": {},
     "output_type": "execute_result"
    }
   ],
   "source": [
    "%matplotlib inline\n",
    "from matplotlib import pyplot as plt\n",
    "import numpy as np\n",
    "import collections\n",
    "\n",
    "import torch\n",
    "import torch.nn as nn\n",
    "import torch.nn.functional as F\n",
    "import torch.optim as optim\n",
    "\n",
    "torch.set_printoptions(edgeitems=2)\n",
    "torch.manual_seed(123)"
   ]
  },
  {
   "cell_type": "code",
   "execution_count": 2,
   "metadata": {},
   "outputs": [],
   "source": [
    "class_names = ['airplane','automobile','bird','cat','deer',\n",
    "               'dog','frog','horse','ship','truck']"
   ]
  },
  {
   "cell_type": "code",
   "execution_count": 3,
   "metadata": {},
   "outputs": [
    {
     "name": "stdout",
     "output_type": "stream",
     "text": [
      "Files already downloaded and verified\n"
     ]
    }
   ],
   "source": [
    "from torchvision import datasets, transforms\n",
    "data_path = '../data-unversioned/p1ch7/'\n",
    "cifar10 = datasets.CIFAR10(\n",
    "    data_path, train=True, download=True,\n",
    "    transform=transforms.Compose([\n",
    "        transforms.ToTensor(),\n",
    "        transforms.Normalize((0.4915, 0.4823, 0.4468),\n",
    "                             (0.2470, 0.2435, 0.2616))\n",
    "    ]))"
   ]
  },
  {
   "cell_type": "code",
   "execution_count": 4,
   "metadata": {},
   "outputs": [
    {
     "name": "stdout",
     "output_type": "stream",
     "text": [
      "Files already downloaded and verified\n"
     ]
    }
   ],
   "source": [
    "cifar10_val = datasets.CIFAR10(\n",
    "    data_path, train=False, download=True,\n",
    "    transform=transforms.Compose([\n",
    "        transforms.ToTensor(),\n",
    "        transforms.Normalize((0.4915, 0.4823, 0.4468),\n",
    "                             (0.2470, 0.2435, 0.2616))\n",
    "    ]))"
   ]
  },
  {
   "cell_type": "code",
   "execution_count": 5,
   "metadata": {},
   "outputs": [],
   "source": [
    "label_map = {0: 0, 2: 1}\n",
    "class_names = ['airplane', 'bird']\n",
    "cifar2 = [(img, label_map[label])\n",
    "          for img, label in cifar10\n",
    "          if label in [0, 2]]\n",
    "cifar2_val = [(img, label_map[label])\n",
    "              for img, label in cifar10_val\n",
    "              if label in [0, 2]]"
   ]
  },
  {
   "cell_type": "markdown",
   "metadata": {},
   "source": [
    "👆\n",
    "\n",
    "为什么一定要换成`list`, 直接`dataset`不好吗?"
   ]
  },
  {
   "cell_type": "markdown",
   "metadata": {},
   "source": [
    "## 1.1"
   ]
  },
  {
   "cell_type": "code",
   "execution_count": 6,
   "metadata": {},
   "outputs": [
    {
     "data": {
      "text/plain": [
       "(3737474, [3145728, 1024, 524288, 512, 65536, 128, 256, 2])"
      ]
     },
     "execution_count": 6,
     "metadata": {},
     "output_type": "execute_result"
    }
   ],
   "source": [
    "connected_model = nn.Sequential(\n",
    "            nn.Linear(3072, 1024),\n",
    "            nn.Tanh(),\n",
    "            nn.Linear(1024, 512),\n",
    "            nn.Tanh(),\n",
    "            nn.Linear(512, 128),\n",
    "            nn.Tanh(),\n",
    "            nn.Linear(128, 2))\n",
    "\n",
    "numel_list = [p.numel()\n",
    "              for p in connected_model.parameters()\n",
    "              if p.requires_grad == True]\n",
    "sum(numel_list), numel_list"
   ]
  },
  {
   "cell_type": "markdown",
   "metadata": {},
   "source": [
    "就是:\n",
    "\n",
    "$$\n",
    "[3072 \\times 1024, 1024 \\times 512, 512 \\times 128, 128 \\times 2, 1024, 512, 128, 2]\n",
    "$$\n"
   ]
  },
  {
   "cell_type": "code",
   "execution_count": 7,
   "metadata": {},
   "outputs": [
    {
     "data": {
      "text/plain": [
       "(1574402, [1572864, 512, 1024, 2])"
      ]
     },
     "execution_count": 7,
     "metadata": {},
     "output_type": "execute_result"
    }
   ],
   "source": [
    "first_model = nn.Sequential(\n",
    "                nn.Linear(3072, 512),\n",
    "                nn.Tanh(),\n",
    "                nn.Linear(512, 2),\n",
    "                nn.LogSoftmax(dim=1))\n",
    "\n",
    "numel_list = [p.numel() for p in first_model.parameters()]\n",
    "sum(numel_list), numel_list"
   ]
  },
  {
   "cell_type": "markdown",
   "metadata": {},
   "source": [
    "👆\n",
    "\n",
    "这两段说明参数很多, LOL"
   ]
  },
  {
   "cell_type": "code",
   "execution_count": 8,
   "metadata": {},
   "outputs": [
    {
     "data": {
      "text/plain": [
       "Conv2d(3, 16, kernel_size=(3, 3), stride=(1, 1))"
      ]
     },
     "execution_count": 8,
     "metadata": {},
     "output_type": "execute_result"
    }
   ],
   "source": [
    "conv = nn.Conv2d(3, 16, kernel_size=3) # <1>\n",
    "conv"
   ]
  },
  {
   "cell_type": "markdown",
   "metadata": {},
   "source": [
    "这段代码创建了一个二维卷积层。\n",
    "\n",
    "`nn.Conv2d(3, 16, kernel_size=3)` 这行代码的参数解释如下：\n",
    "\n",
    "- `3` 是输入的通道数。在这个例子中，它是3，这意味着输入是一个彩色图像（红、绿、蓝三个通道）。\n",
    "- `16` 是输出的通道数。这意味着这个卷积层将生成16个特征图（feature maps）。\n",
    "- `kernel_size=3` 指定了卷积核的大小。在这个例子中，卷积核的大小是3x3。\n",
    "\n",
    "输出 `Conv2d(3, 16, kernel_size=(3, 3), stride=(1, 1))` 是这个卷积层的字符串表示。它告诉我们这个卷积层的一些参数：\n",
    "\n",
    "- `3` 是输入的通道数。\n",
    "- `16` 是输出的通道数。\n",
    "- `kernel_size=(3, 3)` 是卷积核的大小。\n",
    "- `stride=(1, 1)` 是卷积的步长。步长是卷积核在输入特征图上移动的步数。在这个例子中，步长是1，这意味着卷积核在水平和垂直方向上每次移动一步。"
   ]
  },
  {
   "cell_type": "code",
   "execution_count": 9,
   "metadata": {},
   "outputs": [
    {
     "data": {
      "text/plain": [
       "(torch.Size([16, 3, 3, 3]), torch.Size([16]))"
      ]
     },
     "execution_count": 9,
     "metadata": {},
     "output_type": "execute_result"
    }
   ],
   "source": [
    "conv.weight.shape, conv.bias.shape"
   ]
  },
  {
   "cell_type": "code",
   "execution_count": 10,
   "metadata": {},
   "outputs": [
    {
     "data": {
      "text/plain": [
       "(torch.Size([1, 3, 32, 32]), torch.Size([1, 16, 30, 30]))"
      ]
     },
     "execution_count": 10,
     "metadata": {},
     "output_type": "execute_result"
    }
   ],
   "source": [
    "img, _ = cifar2[0]\n",
    "output = conv(img.unsqueeze(0))\n",
    "img.unsqueeze(0).shape, output.shape"
   ]
  },
  {
   "cell_type": "code",
   "execution_count": 11,
   "metadata": {},
   "outputs": [
    {
     "data": {
      "image/png": "[encoded data removed]",
      "text/plain": [
       "<Figure size 1000x480 with 2 Axes>"
      ]
     },
     "metadata": {},
     "output_type": "display_data"
    }
   ],
   "source": [
    "plt.figure(figsize=(10, 4.8))  # bookskip\n",
    "ax1 = plt.subplot(1, 2, 1)   # bookskip\n",
    "plt.title('output')   # bookskip\n",
    "plt.imshow(output[0, 0].detach(), cmap='gray')\n",
    "plt.subplot(1, 2, 2, sharex=ax1, sharey=ax1)  # bookskip\n",
    "plt.imshow(img.mean(0), cmap='gray')  # bookskip\n",
    "plt.title('input')  # bookskip\n",
    "plt.savefig('Ch8_F2_PyTorch.png')  # bookskip\n",
    "plt.show()"
   ]
  },
  {
   "cell_type": "code",
   "execution_count": 12,
   "metadata": {},
   "outputs": [
    {
     "data": {
      "text/plain": [
       "(torch.Size([1, 3, 32, 32]), torch.Size([1, 1, 32, 32]))"
      ]
     },
     "execution_count": 12,
     "metadata": {},
     "output_type": "execute_result"
    }
   ],
   "source": [
    "conv = nn.Conv2d(3, 1, kernel_size=3, padding=1) # <1>\n",
    "output = conv(img.unsqueeze(0))\n",
    "img.unsqueeze(0).shape, output.shape"
   ]
  },
  {
   "cell_type": "code",
   "execution_count": 13,
   "metadata": {},
   "outputs": [],
   "source": [
    "with torch.no_grad():\n",
    "    conv.bias.zero_()\n",
    "    \n",
    "with torch.no_grad():\n",
    "    conv.weight.fill_(1.0 / 9.0)"
   ]
  },
  {
   "cell_type": "markdown",
   "metadata": {},
   "source": [
    "这段代码是在初始化一个卷积层的权重。`conv.weight.fill_(1.0 / 9.0)`这行代码将卷积层的权重全部填充为1/9。\n",
    "\n",
    "为什么要填充为1/9呢？这通常是因为这个卷积层可能是一个3x3的卷积核，总共有9个元素。如果我们希望这个卷积核在初始状态下对输入进行平均池化（即，将3x3的区域内的值求平均），那么每个元素的权重应该是1/9。这样，当这个卷积核作用在一个3x3的区域上时，它会将该区域内的所有值加起来，然后乘以1/9，从而实现平均池化。"
   ]
  },
  {
   "cell_type": "code",
   "execution_count": 14,
   "metadata": {},
   "outputs": [
    {
     "data": {
      "image/png": "[encoded data removed]",
      "text/plain": [
       "<Figure size 1000x480 with 2 Axes>"
      ]
     },
     "metadata": {},
     "output_type": "display_data"
    }
   ],
   "source": [
    "output = conv(img.unsqueeze(0))\n",
    "plt.figure(figsize=(10, 4.8))  # bookskip\n",
    "ax1 = plt.subplot(1, 2, 1)   # bookskip\n",
    "plt.title('output')   # bookskip\n",
    "plt.imshow(output[0, 0].detach(), cmap='gray')\n",
    "plt.subplot(1, 2, 2, sharex=ax1, sharey=ax1)  # bookskip\n",
    "plt.imshow(img.mean(0), cmap='gray')  # bookskip\n",
    "plt.title('input')  # bookskip\n",
    "plt.savefig('Ch8_F4_PyTorch.png')  # bookskip\n",
    "plt.show()"
   ]
  },
  {
   "cell_type": "code",
   "execution_count": 15,
   "metadata": {},
   "outputs": [
    {
     "data": {
      "image/png": "[encoded data removed]",
      "text/plain": [
       "<Figure size 1000x480 with 2 Axes>"
      ]
     },
     "metadata": {},
     "output_type": "display_data"
    }
   ],
   "source": [
    "output = conv(img.unsqueeze(0))\n",
    "plt.figure(figsize=(10, 4.8))  # bookskip\n",
    "ax1 = plt.subplot(1, 2, 1)   # bookskip\n",
    "plt.title('output')   # bookskip\n",
    "plt.imshow(output[0, 0].detach(), cmap='gray')\n",
    "plt.subplot(1, 2, 2, sharex=ax1, sharey=ax1)  # bookskip\n",
    "plt.imshow(img.mean(0), cmap='gray')  # bookskip\n",
    "plt.title('input')  # bookskip\n",
    "plt.savefig('Ch8_F4_PyTorch.png')  # bookskip\n",
    "plt.show()"
   ]
  },
  {
   "cell_type": "code",
   "execution_count": 16,
   "metadata": {},
   "outputs": [
    {
     "data": {
      "image/png": "[encoded data removed]",
      "text/plain": [
       "<Figure size 1000x480 with 2 Axes>"
      ]
     },
     "metadata": {},
     "output_type": "display_data"
    }
   ],
   "source": [
    "output = conv(img.unsqueeze(0))\n",
    "plt.figure(figsize=(10, 4.8))  # bookskip\n",
    "ax1 = plt.subplot(1, 2, 1)   # bookskip\n",
    "plt.title('output')   # bookskip\n",
    "plt.imshow(output[0, 0].detach(), cmap='gray')\n",
    "plt.subplot(1, 2, 2, sharex=ax1, sharey=ax1)  # bookskip\n",
    "plt.imshow(img.mean(0), cmap='gray')  # bookskip\n",
    "plt.title('input')  # bookskip\n",
    "plt.savefig('Ch8_F5_PyTorch.png')  # bookskip\n",
    "plt.show()"
   ]
  },
  {
   "cell_type": "code",
   "execution_count": 17,
   "metadata": {},
   "outputs": [
    {
     "data": {
      "text/plain": [
       "(torch.Size([1, 3, 32, 32]), torch.Size([1, 3, 16, 16]))"
      ]
     },
     "execution_count": 17,
     "metadata": {},
     "output_type": "execute_result"
    }
   ],
   "source": [
    "pool = nn.MaxPool2d(2)\n",
    "output = pool(img.unsqueeze(0))\n",
    "\n",
    "img.unsqueeze(0).shape, output.shape"
   ]
  },
  {
   "cell_type": "code",
   "execution_count": 18,
   "metadata": {},
   "outputs": [],
   "source": [
    "model = nn.Sequential(\n",
    "            nn.Conv2d(3, 16, kernel_size=3, padding=1),\n",
    "            nn.Tanh(),\n",
    "            nn.MaxPool2d(2),\n",
    "            nn.Conv2d(16, 8, kernel_size=3, padding=1),\n",
    "            nn.Tanh(),\n",
    "            nn.MaxPool2d(2),\n",
    "            # ... <1>\n",
    "            nn.Linear(8 * 8 * 8, 32),\n",
    "            nn.Tanh(),\n",
    "            nn.Linear(32, 2))"
   ]
  },
  {
   "cell_type": "code",
   "execution_count": 19,
   "metadata": {},
   "outputs": [
    {
     "data": {
      "text/plain": [
       "(18090, [432, 16, 1152, 8, 16384, 32, 64, 2])"
      ]
     },
     "execution_count": 19,
     "metadata": {},
     "output_type": "execute_result"
    }
   ],
   "source": [
    "numel_list = [p.numel() for p in model.parameters()]\n",
    "sum(numel_list), numel_list"
   ]
  },
  {
   "cell_type": "code",
   "execution_count": 20,
   "metadata": {},
   "outputs": [],
   "source": [
    "# model(img.unsqueeze(0))"
   ]
  },
  {
   "cell_type": "markdown",
   "metadata": {},
   "source": [
    "这个错误是因为你在卷积层和全连接层之间没有正确地调整张量的形状。在全连接层（`nn.Linear`）之前，你需要将多维的张量展平为一维。\n",
    "\n",
    "在你的模型中，最后一个`MaxPool2d`层输出的张量形状是`[batch_size, 8, height, width]`。然而，`nn.Linear`层期望的输入形状是`[batch_size, num_features]`，所以你需要添加一个展平操作。\n",
    "\n",
    "你可以通过添加一个`nn.Flatten()`层来实现这一点，如下所示：\n",
    "\n",
    "```python\n",
    "model = nn.Sequential(\n",
    "            nn.Conv2d(3, 16, kernel_size=3, padding=1),\n",
    "            nn.Tanh(),\n",
    "            nn.MaxPool2d(2),\n",
    "            nn.Conv2d(16, 8, kernel_size=3, padding=1),\n",
    "            nn.Tanh(),\n",
    "            nn.MaxPool2d(2),\n",
    "            nn.Flatten(),  # 添加这一行\n",
    "            nn.Linear(8 * 8 * 8, 32),\n",
    "            nn.Tanh(),\n",
    "            nn.Linear(32, 2))\n",
    "```\n",
    "\n",
    "在这个修改后的模型中，`nn.Flatten()`层将`[batch_size, 8, height, width]`形状的张量展平为`[batch_size, 8*height*width]`形状的张量，然后将其传递给`nn.Linear`层。\n",
    "\n",
    "请注意，你可能需要根据你的输入图像的大小和你的卷积层的配置，调整`nn.Linear(8 * 8 * 8, 32)`中的`8 * 8 * 8`。这个值应该等于`nn.Flatten()`层输出的特征数量。"
   ]
  },
  {
   "cell_type": "markdown",
   "metadata": {},
   "source": [
    "## 1.2"
   ]
  },
  {
   "cell_type": "code",
   "execution_count": 21,
   "metadata": {},
   "outputs": [],
   "source": [
    "model1 = nn.Sequential(\n",
    "            nn.Conv2d(3, 16, kernel_size=3, padding=1),\n",
    "            nn.Tanh(),\n",
    "            nn.MaxPool2d(2),\n",
    "            nn.Conv2d(16, 8, kernel_size=3, padding=1),\n",
    "            nn.Tanh(),\n",
    "            nn.MaxPool2d(2),\n",
    "            # ... <1>\n",
    "            nn.Flatten(), \n",
    "            nn.Linear(8 * 8 * 8, 32),\n",
    "            nn.Tanh(),\n",
    "            nn.Linear(32, 2))"
   ]
  },
  {
   "cell_type": "code",
   "execution_count": 22,
   "metadata": {},
   "outputs": [
    {
     "data": {
      "text/plain": [
       "tensor([[ 0.0987, -0.0068]], grad_fn=<AddmmBackward0>)"
      ]
     },
     "execution_count": 22,
     "metadata": {},
     "output_type": "execute_result"
    }
   ],
   "source": [
    "model1(img.unsqueeze(0))"
   ]
  },
  {
   "cell_type": "code",
   "execution_count": 23,
   "metadata": {},
   "outputs": [],
   "source": [
    "class Net(nn.Module):\n",
    "    def __init__(self):\n",
    "        super().__init__()\n",
    "        self.conv1 = nn.Conv2d(3, 16, kernel_size=3, padding=1)\n",
    "        self.act1 = nn.Tanh()\n",
    "        self.pool1 = nn.MaxPool2d(2)\n",
    "        self.conv2 = nn.Conv2d(16, 8, kernel_size=3, padding=1)\n",
    "        self.act2 = nn.Tanh()\n",
    "        self.pool2 = nn.MaxPool2d(2)\n",
    "        self.fc1 = nn.Linear(8 * 8 * 8, 32)\n",
    "        self.act3 = nn.Tanh()\n",
    "        self.fc2 = nn.Linear(32, 2)\n",
    "\n",
    "    def forward(self, x):\n",
    "        out = self.pool1(self.act1(self.conv1(x)))\n",
    "        out = self.pool2(self.act2(self.conv2(out)))\n",
    "        out = out.view(-1, 8 * 8 * 8) # <1>\n",
    "        out = self.act3(self.fc1(out))\n",
    "        out = self.fc2(out)\n",
    "        return out"
   ]
  },
  {
   "cell_type": "code",
   "execution_count": 24,
   "metadata": {},
   "outputs": [
    {
     "data": {
      "text/plain": [
       "Net(\n",
       "  (conv1): Conv2d(3, 16, kernel_size=(3, 3), stride=(1, 1), padding=(1, 1))\n",
       "  (act1): Tanh()\n",
       "  (pool1): MaxPool2d(kernel_size=2, stride=2, padding=0, dilation=1, ceil_mode=False)\n",
       "  (conv2): Conv2d(16, 8, kernel_size=(3, 3), stride=(1, 1), padding=(1, 1))\n",
       "  (act2): Tanh()\n",
       "  (pool2): MaxPool2d(kernel_size=2, stride=2, padding=0, dilation=1, ceil_mode=False)\n",
       "  (fc1): Linear(in_features=512, out_features=32, bias=True)\n",
       "  (act3): Tanh()\n",
       "  (fc2): Linear(in_features=32, out_features=2, bias=True)\n",
       ")"
      ]
     },
     "execution_count": 24,
     "metadata": {},
     "output_type": "execute_result"
    }
   ],
   "source": [
    "model2 = Net()\n",
    "\n",
    "# 创建一个映射，将nn.Sequential模型的参数键名映射到自定义Net模型的参数键名\n",
    "key_map = {\n",
    "    \"0.weight\": \"conv1.weight\",\n",
    "    \"0.bias\": \"conv1.bias\",\n",
    "    \"3.weight\": \"conv2.weight\",\n",
    "    \"3.bias\": \"conv2.bias\",\n",
    "    \"7.weight\": \"fc1.weight\",\n",
    "    \"7.bias\": \"fc1.bias\",\n",
    "    \"9.weight\": \"fc2.weight\",\n",
    "    \"9.bias\": \"fc2.bias\",\n",
    "}\n",
    "\n",
    "# 获取nn.Sequential模型的state_dict\n",
    "state_dict = model1.state_dict()\n",
    "\n",
    "# 创建一个新的state_dict，其键名与自定义Net模型的键名相同\n",
    "new_state_dict = {key_map[key]: value for key, value in state_dict.items() if key in key_map}\n",
    "\n",
    "# 将新的state_dict加载到自定义Net模型中\n",
    "model2.load_state_dict(new_state_dict)\n",
    "\n",
    "model2"
   ]
  },
  {
   "cell_type": "code",
   "execution_count": 25,
   "metadata": {},
   "outputs": [
    {
     "data": {
      "text/plain": [
       "tensor([[ 0.0987, -0.0068]], grad_fn=<AddmmBackward0>)"
      ]
     },
     "execution_count": 25,
     "metadata": {},
     "output_type": "execute_result"
    }
   ],
   "source": [
    "model2(img.unsqueeze(0))"
   ]
  },
  {
   "cell_type": "markdown",
   "metadata": {},
   "source": [
    "👆\n",
    "\n",
    "---\n",
    "\n",
    "**出现结果不同!!!!**\n",
    "\n",
    "> 结果不同, 为什么?\n",
    "\n",
    "虽然这两个模型在结构上是相同的, 但是他们的权重初始化可能是不同的. 在PyTorch中, 每次你创建一个新的`nn.Module`（包括`nn.Sequential`和自定义模型）, 它的权重都会被随机初始化. 因此, 即使两个模型的结构完全相同, 他们的权重也可能是不同的, 除非你明确地设置了相同的随机种子或者手动将一个模型的权重复制到另一个模型. \n",
    "\n",
    "此外, 如果你在两个模型之间运行了任何训练代码, 那么这也可能改变模型的权重, 从而导致不同的输出. \n",
    "\n",
    "如果你希望两个模型有相同的输出, 你需要确保他们有相同的权重. 你可以通过以下方式来实现这一点: \n",
    "\n",
    "```python\n",
    "# 创建第一个模型\n",
    "model1 = nn.Sequential(\n",
    "            nn.Conv2d(3, 16, kernel_size=3, padding=1),\n",
    "            nn.Tanh(),\n",
    "            nn.MaxPool2d(2),\n",
    "            nn.Conv2d(16, 8, kernel_size=3, padding=1),\n",
    "            nn.Tanh(),\n",
    "            nn.MaxPool2d(2),\n",
    "            nn.Flatten(), \n",
    "            nn.Linear(8 * 8 * 8, 32),\n",
    "            nn.Tanh(),\n",
    "            nn.Linear(32, 2))\n",
    "\n",
    "# 创建第二个模型, 并将第一个模型的权重复制到第二个模型\n",
    "model2 = Net()\n",
    "model2.load_state_dict(model1.state_dict())\n",
    "```\n",
    "\n",
    "在这段代码中, `model2.load_state_dict(model1.state_dict())`将`model1`的权重复制到`model2`. 现在, 只要输入相同, `model1`和`model2`的输出就应该是相同的.\n",
    "\n",
    "> P.S.\n",
    ">\n",
    "> 但是再这段代码中, 并不能简单用`model2.load_state_dict(model1.state_dict())`, 这会出现如下报错信息:\n",
    ">\n",
    "> ```\n",
    "> RuntimeError: Error(s) in loading state_dict for Net:\n",
    "> \tMissing key(s) in state_dict: \"conv1.weight\", \"conv1.bias\", \"conv2.weight\", \"conv2.bias\", \"fc1.weight\", \"fc1.bias\", \"fc2.weight\", \"fc2.bias\". \n",
    "> \tUnexpected key(s) in state_dict: \"0.weight\", \"0.bias\", \"3.weight\", \"3.bias\", \"7.weight\", \"7.bias\", \"9.weight\", \"9.bias\". \n",
    "> ```\n",
    "> \n",
    "> 由此, 我们需要将代码修改为:\n",
    ">\n",
    "> ```python\n",
    "> # 创建一个映射，将nn.Sequential模型的参数键名映射到自定义Net模型的参数键名\n",
    "> key_map = {\n",
    ">     \"0.weight\": \"conv1.weight\",\n",
    ">     \"0.bias\": \"conv1.bias\",\n",
    ">     \"3.weight\": \"conv2.weight\",\n",
    ">     \"3.bias\": \"conv2.bias\",\n",
    ">     \"7.weight\": \"fc1.weight\",\n",
    ">     \"7.bias\": \"fc1.bias\",\n",
    ">     \"9.weight\": \"fc2.weight\",\n",
    ">     \"9.bias\": \"fc2.bias\",\n",
    "> }\n",
    "> \n",
    "> # 获取nn.Sequential模型的state_dict\n",
    "> state_dict = model1.state_dict()\n",
    "> \n",
    "> # 创建一个新的state_dict，其键名与自定义Net模型的键名相同\n",
    "> new_state_dict = {key_map[key]: value for key, value in state_dict.items() if key in key_map}\n",
    "> \n",
    "> # 将新的state_dict加载到自定义Net模型中\n",
    "> model2.load_state_dict(new_state_dict)\n",
    "> ```\n",
    "\n",
    "---\n",
    "\n",
    "同时, 值得一提的是: 这两段代码在功能上是等价的, 都定义了一个具有两个卷积层和两个全连接层的卷积神经网络. 他们的主要区别在于实现方式: 第一段代码使用了`nn.Sequential`, 而第二段代码使用了自定义的`nn.Module`. \n",
    "\n",
    "`nn.Sequential`是一个特殊的模块, 它包含了其他模块, 并按照它们被添加的顺序来执行它们. 这使得网络的定义变得简单, 但是也限制了模型的灵活性. 例如, 你不能在`nn.Sequential`模型中包含有多个输入或输出的层, 或者有复杂控制流的层. \n",
    "\n",
    "自定义的`nn.Module`提供了更大的灵活性. 你可以在`forward`方法中定义任意的计算流程, 包括有多个输入或输出的层, 有复杂控制流的层, 等等. \n",
    "\n",
    "如果你的模型的结构比较简单, 你可以使用`nn.Sequential`来简化代码. 如果你的模型的结构比较复杂, 你可能需要使用自定义的`nn.Module`. "
   ]
  },
  {
   "cell_type": "code",
   "execution_count": 26,
   "metadata": {},
   "outputs": [],
   "source": [
    "import torch.nn.functional as F\n",
    "\n",
    "class Net(nn.Module):\n",
    "    def __init__(self):\n",
    "        super().__init__()\n",
    "        self.conv1 = nn.Conv2d(3, 16, kernel_size=3, padding=1)\n",
    "        self.conv2 = nn.Conv2d(16, 8, kernel_size=3, padding=1)\n",
    "        self.fc1 = nn.Linear(8 * 8 * 8, 32)\n",
    "        self.fc2 = nn.Linear(32, 2)\n",
    "        \n",
    "    def forward(self, x):\n",
    "        out = F.max_pool2d(torch.tanh(self.conv1(x)), 2)\n",
    "        out = F.max_pool2d(torch.tanh(self.conv2(out)), 2)\n",
    "        out = out.view(-1, 8 * 8 * 8)\n",
    "        out = torch.tanh(self.fc1(out))\n",
    "        out = self.fc2(out)\n",
    "        return out"
   ]
  },
  {
   "cell_type": "code",
   "execution_count": 27,
   "metadata": {},
   "outputs": [
    {
     "data": {
      "text/plain": [
       "tensor([[ 0.0987, -0.0068]], grad_fn=<AddmmBackward0>)"
      ]
     },
     "execution_count": 27,
     "metadata": {},
     "output_type": "execute_result"
    }
   ],
   "source": [
    "model3 = Net()\n",
    "\n",
    "model3.load_state_dict(new_state_dict)\n",
    "\n",
    "model3(img.unsqueeze(0))"
   ]
  },
  {
   "cell_type": "markdown",
   "metadata": {},
   "source": [
    "👆\n",
    "\n",
    "这是同一个目的的第三章实现方式!"
   ]
  },
  {
   "cell_type": "markdown",
   "metadata": {},
   "source": [
    "## 1.3"
   ]
  },
  {
   "cell_type": "code",
   "execution_count": 28,
   "metadata": {},
   "outputs": [
    {
     "name": "stdout",
     "output_type": "stream",
     "text": [
      "Training on device: cuda.\n"
     ]
    }
   ],
   "source": [
    "device = (torch.device('cuda') if torch.cuda.is_available()\n",
    "          else torch.device('cpu'))\n",
    "\n",
    "print(f\"Training on device: {device}.\")"
   ]
  },
  {
   "cell_type": "code",
   "execution_count": 29,
   "metadata": {},
   "outputs": [],
   "source": [
    "import datetime"
   ]
  },
  {
   "cell_type": "code",
   "execution_count": 30,
   "metadata": {},
   "outputs": [],
   "source": [
    "def training_loop(n_epochs, optimizer, model, loss_fn, train_loader, val_loader):\n",
    "    for epoch in range(1, n_epochs + 1):\n",
    "        \n",
    "        # 损失初始化\n",
    "        loss_train = 0.0\n",
    "        loss_val = 0.0\n",
    "\n",
    "        for imgs, labels in train_loader:  # 每次循环一个batch\n",
    "\n",
    "            # 预测 ...\n",
    "            outputs = model(imgs)  # 前向传播\n",
    "            loss = loss_fn(outputs, labels) # 用结果和labels计算损失\n",
    "\n",
    "            # 梯度\n",
    "            optimizer.zero_grad() # 梯度初始化为0\n",
    "            loss.backward() # 反向传播计算梯度\n",
    "            optimizer.step()\n",
    "\n",
    "            loss_train += loss.item() # 累加损失\n",
    "\n",
    "        for imgs_val, labels_val in val_loader:\n",
    "\n",
    "            outputs_val = model(imgs_val)\n",
    "            loss_part_val = loss_fn(outputs_val, labels_val)\n",
    "            loss_val += loss_part_val.item()\n",
    "\n",
    "        if epoch == 1 or epoch % 10 == 0: # 对于第1个和每10个epoch\n",
    "            print('{} Epoch {}, Training loss {}, Validation loss {}'\n",
    "                  .format(\n",
    "                        datetime.datetime.now(), epoch,\n",
    "                        loss_train / len(train_loader),\n",
    "                        loss_val / len(val_loader)\n",
    "                  ))"
   ]
  },
  {
   "cell_type": "markdown",
   "metadata": {},
   "source": [
    "1. `if epoch == 1 or epoch % 10 == 0:`：这个条件判断语句是在每个训练周期（epoch）开始时执行。如果是第一个训练周期，或者是每10个训练周期，那么就执行下面的代码。\n",
    "2. `print(...)`：这行代码打印出当前的**日期和时间**（`datetime.datetime.now()`），当前的**训练周期数**（`epoch`），以及**训练损失**（`loss_train / len(train_loader)`）和**验证损失**（`loss_val / len(val_loader)`）。训练损失和验证损失都是通过将总损失除以数据加载器（`train_loader` 或 `val_loader`）的长度来计算的，这样可以得到平均损失。\n",
    "3. `.format(...)`\n",
    "   1. `datetime.datetime.now()`：这是Python的datetime模块中的一个方法，它返回当前的日期和时间。这个值将替换字符串中的第一个`{}`。\n",
    "   2. `epoch`：这是一个变量，代表当前的训练周期数。这个值将替换字符串中的第二个`{}`。\n",
    "   3. `loss_train / len(train_loader)`：这是一个表达式，它计算的是平均训练损失。`loss_train`是训练损失的总和，`len(train_loader)`是训练数据的数量。这个值将替换字符串中的第三个`{}`。\n",
    "   4. `loss_val / len(val_loader)`：这也是一个表达式，它计算的是平均验证损失。`loss_val`是验证损失的总和，`len(val_loader)`是验证数据的数量。这个值将替换字符串中的第四个`{}`。"
   ]
  },
  {
   "cell_type": "code",
   "execution_count": 31,
   "metadata": {},
   "outputs": [],
   "source": [
    "# training on 'CPU'\n",
    "\n",
    "train_loader_cpu = torch.utils.data.DataLoader(cifar2, batch_size=64, shuffle=True) \n",
    "val_loader_cpu = torch.utils.data.DataLoader(cifar2_val, batch_size=64, shuffle=False)\n",
    "\n",
    "model = Net()\n",
    "optimizer = optim.SGD(model.parameters(), lr=1e-2)\n",
    "loss_fn = nn.CrossEntropyLoss()"
   ]
  },
  {
   "cell_type": "code",
   "execution_count": 32,
   "metadata": {},
   "outputs": [
    {
     "name": "stdout",
     "output_type": "stream",
     "text": [
      "2024-02-02 22:55:12.224493 Epoch 1, Training loss 0.5708008514847726, Validation loss 0.4952299017459154\n",
      "2024-02-02 22:55:24.567238 Epoch 10, Training loss 0.3339461323561942, Validation loss 0.334935886785388\n",
      "2024-02-02 22:55:37.937178 Epoch 20, Training loss 0.2962817868609337, Validation loss 0.3206206406466663\n",
      "2024-02-02 22:55:51.874789 Epoch 30, Training loss 0.2695326501396811, Validation loss 0.3070549173280597\n",
      "2024-02-02 22:56:05.036258 Epoch 40, Training loss 0.2450622946593412, Validation loss 0.2783084693364799\n",
      "2024-02-02 22:56:18.749505 Epoch 50, Training loss 0.22623928574619778, Validation loss 0.2743891696445644\n",
      "2024-02-02 22:56:31.993252 Epoch 60, Training loss 0.2118130373252425, Validation loss 0.3356199781410396\n",
      "2024-02-02 22:56:45.576044 Epoch 70, Training loss 0.19751943666843852, Validation loss 0.3067998685874045\n",
      "2024-02-02 22:56:58.476642 Epoch 80, Training loss 0.18407775736918117, Validation loss 0.2766256108880043\n",
      "2024-02-02 22:57:11.388376 Epoch 90, Training loss 0.17063522421915062, Validation loss 0.2833608649671078\n",
      "2024-02-02 22:57:25.073385 Epoch 100, Training loss 0.15630720494089612, Validation loss 0.26901030307635665\n"
     ]
    }
   ],
   "source": [
    "training_loop(\n",
    "    n_epochs = 100,\n",
    "    optimizer = optimizer,\n",
    "    model = model,\n",
    "    loss_fn = loss_fn,\n",
    "    train_loader = train_loader_cpu,\n",
    "    val_loader = val_loader_cpu\n",
    ")"
   ]
  },
  {
   "cell_type": "code",
   "execution_count": 33,
   "metadata": {},
   "outputs": [],
   "source": [
    "# training on 'GPU'\n",
    "\n",
    "def training_loop_gpu(n_epochs, optimizer, model, loss_fn, train_loader, val_loader):\n",
    "    model.to(device)\n",
    "    for epoch in range(1, n_epochs + 1):\n",
    "        \n",
    "        loss_train = 0.0\n",
    "        loss_val = 0.0\n",
    "\n",
    "        for imgs, labels in train_loader:\n",
    "            \n",
    "            imgs = imgs.to(device=device)\n",
    "            labels = labels.to(device=device)\n",
    "\n",
    "            outputs = model(imgs)\n",
    "            loss = loss_fn(outputs, labels)\n",
    "\n",
    "            optimizer.zero_grad()\n",
    "            loss.backward()\n",
    "            optimizer.step()\n",
    "\n",
    "            loss_train += loss.item()\n",
    "\n",
    "        for imgs_val, labels_val in val_loader:\n",
    "            \n",
    "            imgs_val = imgs_val.to(device=device)\n",
    "            labels_val = labels_val.to(device=device)\n",
    "\n",
    "            outputs_val = model(imgs_val)\n",
    "            loss_part_val = loss_fn(outputs_val, labels_val)\n",
    "            loss_val += loss_part_val.item()\n",
    "\n",
    "        if epoch == 1 or epoch % 10 == 0:\n",
    "            print('{} Epoch {}, Training loss {}, Validation loss {}'\n",
    "                  .format(\n",
    "                        datetime.datetime.now(), epoch,\n",
    "                        loss_train / len(train_loader),\n",
    "                        loss_val / len(val_loader)\n",
    "                  ))"
   ]
  },
  {
   "cell_type": "code",
   "execution_count": 34,
   "metadata": {},
   "outputs": [],
   "source": [
    "model = Net().to(device=device)\n",
    "\n",
    "optimizer = optim.SGD(model.parameters(), lr=1e-2)\n",
    "loss_fn = nn.CrossEntropyLoss()"
   ]
  },
  {
   "cell_type": "code",
   "execution_count": 35,
   "metadata": {},
   "outputs": [
    {
     "name": "stdout",
     "output_type": "stream",
     "text": [
      "2024-02-02 22:57:27.224285 Epoch 1, Training loss 0.5622410339534663, Validation loss 0.48701615910977125\n",
      "2024-02-02 22:57:31.061960 Epoch 10, Training loss 0.33046229022323703, Validation loss 0.3458774769678712\n",
      "2024-02-02 22:57:35.236162 Epoch 20, Training loss 0.2957916582465931, Validation loss 0.31741571007296443\n",
      "2024-02-02 22:57:39.979502 Epoch 30, Training loss 0.2706524693662194, Validation loss 0.2989501412957907\n",
      "2024-02-02 22:57:44.684737 Epoch 40, Training loss 0.25231395453024824, Validation loss 0.2863029963336885\n",
      "2024-02-02 22:57:49.421751 Epoch 50, Training loss 0.2320837667983049, Validation loss 0.2842944199219346\n",
      "2024-02-02 22:57:54.076246 Epoch 60, Training loss 0.21709358810809007, Validation loss 0.31090026814490557\n",
      "2024-02-02 22:57:58.442784 Epoch 70, Training loss 0.2035268672332642, Validation loss 0.2888598311692476\n",
      "2024-02-02 22:58:02.777900 Epoch 80, Training loss 0.1880716416676333, Validation loss 0.3061237307265401\n",
      "2024-02-02 22:58:07.091359 Epoch 90, Training loss 0.1701290205500688, Validation loss 0.29026746563613415\n",
      "2024-02-02 22:58:11.394804 Epoch 100, Training loss 0.1580864025671391, Validation loss 0.34423781000077724\n"
     ]
    }
   ],
   "source": [
    "training_loop_gpu(\n",
    "    n_epochs = 100,\n",
    "    optimizer = optimizer,\n",
    "    model = model,\n",
    "    loss_fn = loss_fn,\n",
    "    train_loader = train_loader_cpu,\n",
    "    val_loader = val_loader_cpu\n",
    ")"
   ]
  },
  {
   "cell_type": "code",
   "execution_count": 36,
   "metadata": {},
   "outputs": [],
   "source": [
    "# training on 'GPU' - A FASTER VERSION\n",
    "\n",
    "cifar2_gpu = [(\n",
    "    img.to(device=device),\n",
    "    torch.tensor(label).to(device=device)\n",
    "    )\n",
    "    for img, label in cifar2\n",
    "]\n",
    "\n",
    "cifar2_val_gpu = [(\n",
    "    img.to(device=device),\n",
    "    torch.tensor(label).to(device=device)\n",
    "    )\n",
    "    for img, label in cifar2_val\n",
    "]"
   ]
  },
  {
   "cell_type": "code",
   "execution_count": 37,
   "metadata": {},
   "outputs": [],
   "source": [
    "train_loader_gpu = torch.utils.data.DataLoader(cifar2_gpu, batch_size=64, shuffle=True)\n",
    "val_loader_gpu = torch.utils.data.DataLoader(cifar2_val_gpu, batch_size=64, shuffle=False)\n",
    "\n",
    "model = Net().to(device=device)\n",
    "optimizer = optim.SGD(model.parameters(), lr=1e-2)\n",
    "loss_fn = nn.CrossEntropyLoss()"
   ]
  },
  {
   "cell_type": "code",
   "execution_count": 38,
   "metadata": {},
   "outputs": [
    {
     "name": "stdout",
     "output_type": "stream",
     "text": [
      "2024-02-02 22:58:13.022352 Epoch 1, Training loss 0.5560002585125577, Validation loss 0.4881948297843337\n",
      "2024-02-02 22:58:16.391630 Epoch 10, Training loss 0.33039212805829987, Validation loss 0.4265469694510102\n",
      "2024-02-02 22:58:20.126913 Epoch 20, Training loss 0.29642911729918925, Validation loss 0.3416355806402862\n",
      "2024-02-02 22:58:24.222123 Epoch 30, Training loss 0.2737994971358852, Validation loss 0.3140600877813995\n",
      "2024-02-02 22:58:28.047544 Epoch 40, Training loss 0.2514147369345282, Validation loss 0.29640528839081526\n",
      "2024-02-02 22:58:31.811058 Epoch 50, Training loss 0.2320627171997052, Validation loss 0.3232989157550037\n",
      "2024-02-02 22:58:35.496420 Epoch 60, Training loss 0.21455770579113323, Validation loss 0.33668801560997963\n",
      "2024-02-02 22:58:39.048789 Epoch 70, Training loss 0.1996301571559754, Validation loss 0.3489159750752151\n",
      "2024-02-02 22:58:42.596496 Epoch 80, Training loss 0.1850656069055864, Validation loss 0.3190877861343324\n",
      "2024-02-02 22:58:46.815970 Epoch 90, Training loss 0.1704715427224803, Validation loss 0.2868629996664822\n",
      "2024-02-02 22:58:51.078338 Epoch 100, Training loss 0.15710233626471962, Validation loss 0.2784704710356891\n"
     ]
    }
   ],
   "source": [
    "training_loop(\n",
    "    n_epochs = 100,\n",
    "    optimizer = optimizer,\n",
    "    model = model,\n",
    "    loss_fn = loss_fn,\n",
    "    train_loader = train_loader_gpu,\n",
    "    val_loader = val_loader_gpu\n",
    ")"
   ]
  },
  {
   "cell_type": "markdown",
   "metadata": {},
   "source": [
    "## 1.4"
   ]
  },
  {
   "cell_type": "code",
   "execution_count": 39,
   "metadata": {},
   "outputs": [
    {
     "data": {
      "text/plain": [
       "Net(\n",
       "  (conv1): Conv2d(3, 16, kernel_size=(3, 3), stride=(1, 1), padding=(1, 1))\n",
       "  (conv2): Conv2d(16, 8, kernel_size=(3, 3), stride=(1, 1), padding=(1, 1))\n",
       "  (fc1): Linear(in_features=512, out_features=32, bias=True)\n",
       "  (fc2): Linear(in_features=32, out_features=2, bias=True)\n",
       ")"
      ]
     },
     "execution_count": 39,
     "metadata": {},
     "output_type": "execute_result"
    }
   ],
   "source": [
    "model"
   ]
  },
  {
   "cell_type": "code",
   "execution_count": 40,
   "metadata": {},
   "outputs": [],
   "source": [
    "class Net(nn.Module):\n",
    "    def __init__(self):\n",
    "        super().__init__()\n",
    "        self.conv1 = nn.Conv2d(3, 32, kernel_size=3, padding=1)\n",
    "        self.conv2 = nn.Conv2d(32, 16, kernel_size=3, padding=1)\n",
    "        self.fc1 = nn.Linear(8 * 8 * 16, 32)\n",
    "        self.fc2 = nn.Linear(32, 2)\n",
    "        \n",
    "    def forward(self, x):\n",
    "        out = F.max_pool2d(torch.tanh(self.conv1(x)), 2)\n",
    "        out = F.max_pool2d(torch.tanh(self.conv2(out)), 2)\n",
    "        out = out.view(-1, 8 * 8 * 16)\n",
    "        out = torch.tanh(self.fc1(out))\n",
    "        out = self.fc2(out)\n",
    "        return out"
   ]
  },
  {
   "cell_type": "markdown",
   "metadata": {},
   "source": [
    "修改, 增加模型的宽度, $ 16 \\to 32 $"
   ]
  },
  {
   "cell_type": "code",
   "execution_count": 41,
   "metadata": {},
   "outputs": [],
   "source": [
    "model = Net().to(device=device)\n",
    "optimizer = optim.SGD(model.parameters(), lr=1e-2)\n",
    "# loss_fn = nn.CrossEntropyLoss()"
   ]
  },
  {
   "cell_type": "markdown",
   "metadata": {},
   "source": [
    "👆\n",
    "\n",
    "当重新定义`model`时, 需要将`model`重新传递给`optimizer`"
   ]
  },
  {
   "cell_type": "code",
   "execution_count": 42,
   "metadata": {},
   "outputs": [
    {
     "name": "stdout",
     "output_type": "stream",
     "text": [
      "2024-02-02 22:58:51.766412 Epoch 1, Training loss 0.5425846117317297, Validation loss 0.4745121244341135\n",
      "2024-02-02 22:58:56.288055 Epoch 10, Training loss 0.32138324135048374, Validation loss 0.3301450666040182\n",
      "2024-02-02 22:59:01.070096 Epoch 20, Training loss 0.2772475232364266, Validation loss 0.3011070233769715\n",
      "2024-02-02 22:59:05.601150 Epoch 30, Training loss 0.2420189292377727, Validation loss 0.2917784973978996\n",
      "2024-02-02 22:59:10.035102 Epoch 40, Training loss 0.21353359444505848, Validation loss 0.269878493854776\n",
      "2024-02-02 22:59:14.350426 Epoch 50, Training loss 0.18918596649435676, Validation loss 0.2658270827960223\n",
      "2024-02-02 22:59:18.870287 Epoch 60, Training loss 0.16647480086536165, Validation loss 0.28409657580778\n",
      "2024-02-02 22:59:23.291218 Epoch 70, Training loss 0.1449606773579956, Validation loss 0.30459499824792147\n",
      "2024-02-02 22:59:27.678779 Epoch 80, Training loss 0.12313474309007832, Validation loss 0.27214027056470513\n",
      "2024-02-02 22:59:32.327559 Epoch 90, Training loss 0.10397605472214662, Validation loss 0.3162066815420985\n",
      "2024-02-02 22:59:36.690494 Epoch 100, Training loss 0.08800364575188631, Validation loss 0.30499983904883265\n"
     ]
    }
   ],
   "source": [
    "training_loop(\n",
    "    n_epochs = 100,\n",
    "    optimizer = optimizer,\n",
    "    model = model,\n",
    "    loss_fn = loss_fn,\n",
    "    train_loader = train_loader_gpu,\n",
    "    val_loader = val_loader_gpu\n",
    ")"
   ]
  },
  {
   "cell_type": "markdown",
   "metadata": {},
   "source": [
    "👆\n",
    "\n",
    "明显`overfitting`了."
   ]
  },
  {
   "cell_type": "markdown",
   "metadata": {},
   "source": [
    "## 1.5"
   ]
  },
  {
   "cell_type": "code",
   "execution_count": 43,
   "metadata": {},
   "outputs": [],
   "source": [
    "def training_loop_l2reg(n_epochs, optimizer, model, loss_fn,\n",
    "                        train_loader, val_loader):\n",
    "    for epoch in range(1, n_epochs + 1):\n",
    "        loss_train = 0.0\n",
    "        loss_val = 0.0\n",
    "        for imgs, labels in train_loader:\n",
    "            imgs = imgs.to(device=device)\n",
    "            labels = labels.to(device=device)\n",
    "            outputs = model(imgs)\n",
    "            loss = loss_fn(outputs, labels)\n",
    "\n",
    "            l2_lambda = 0.001\n",
    "            l2_norm = sum(p.pow(2.0).sum()\n",
    "                          for p in model.parameters())  # <1>\n",
    "            loss = loss + l2_lambda * l2_norm\n",
    "\n",
    "            optimizer.zero_grad()\n",
    "            loss.backward()\n",
    "            optimizer.step()\n",
    "            \n",
    "            loss_train += loss.item()\n",
    "\n",
    "        for imgs_val, labels_val in val_loader:\n",
    "            imgs_val = imgs_val.to(device=device)\n",
    "            labels_val = labels_val.to(device=device)\n",
    "            outputs_val= model(imgs_val)\n",
    "            loss_val = loss_fn(outputs_val, labels_val)\n",
    "            loss_val += loss_val.item()\n",
    "        if epoch == 1 or epoch % 10 == 0:\n",
    "            print('{} Epoch {}, Training loss {}, Validation loss {}'.format(\n",
    "                datetime.datetime.now(), epoch,\n",
    "                loss_train / len(train_loader),\n",
    "                loss_val / len(val_loader)))\n"
   ]
  },
  {
   "cell_type": "code",
   "execution_count": 44,
   "metadata": {},
   "outputs": [],
   "source": [
    "train_loader_l2reg = torch.utils.data.DataLoader(cifar2_gpu, batch_size=64, shuffle=True) \n",
    "val_loader_l2reg = torch.utils.data.DataLoader(cifar2_val_gpu, batch_size=64, shuffle=False)"
   ]
  },
  {
   "cell_type": "code",
   "execution_count": 45,
   "metadata": {},
   "outputs": [],
   "source": [
    "model = Net().to(device=device)\n",
    "optimizer = optim.SGD(model.parameters(), lr=1e-2)\n",
    "loss_fn = nn.CrossEntropyLoss()"
   ]
  },
  {
   "cell_type": "code",
   "execution_count": 46,
   "metadata": {},
   "outputs": [
    {
     "name": "stdout",
     "output_type": "stream",
     "text": [
      "2024-02-02 22:59:37.388469 Epoch 1, Training loss 0.5746070431296233, Validation loss 0.029127376154065132\n",
      "2024-02-02 22:59:43.546621 Epoch 10, Training loss 0.347790092989138, Validation loss 0.03040698543190956\n",
      "2024-02-02 22:59:50.700901 Epoch 20, Training loss 0.30990747822697756, Validation loss 0.03201809152960777\n",
      "2024-02-02 22:59:57.552233 Epoch 30, Training loss 0.28188107978955956, Validation loss 0.028734970837831497\n",
      "2024-02-02 23:00:04.842515 Epoch 40, Training loss 0.2564145565792254, Validation loss 0.03454948216676712\n",
      "2024-02-02 23:00:11.438060 Epoch 50, Training loss 0.23506482420073951, Validation loss 0.037262219935655594\n",
      "2024-02-02 23:00:18.031940 Epoch 60, Training loss 0.2153054825059927, Validation loss 0.03996533527970314\n",
      "2024-02-02 23:00:24.829680 Epoch 70, Training loss 0.20051155623736655, Validation loss 0.036543797701597214\n",
      "2024-02-02 23:00:31.309457 Epoch 80, Training loss 0.18586423717866277, Validation loss 0.038817085325717926\n",
      "2024-02-02 23:00:37.781505 Epoch 90, Training loss 0.17465253928854207, Validation loss 0.039799999445676804\n",
      "2024-02-02 23:00:44.450449 Epoch 100, Training loss 0.1605206642086339, Validation loss 0.04209939390420914\n"
     ]
    }
   ],
   "source": [
    "training_loop_l2reg(\n",
    "    n_epochs = 100,\n",
    "    optimizer = optimizer,\n",
    "    model = model,\n",
    "    loss_fn = loss_fn,\n",
    "    train_loader = train_loader_l2reg,\n",
    "    val_loader = val_loader_l2reg\n",
    ")"
   ]
  },
  {
   "cell_type": "markdown",
   "metadata": {},
   "source": [
    "效果有所改善, 但是还是不甚理想, 下面再试试`dropout`"
   ]
  },
  {
   "cell_type": "code",
   "execution_count": 47,
   "metadata": {},
   "outputs": [],
   "source": [
    "class NetDropout(nn.Module):\n",
    "    def __init__(self, n_chans1=32):\n",
    "        super().__init__()\n",
    "        self.n_chans1 = n_chans1\n",
    "        self.conv1 = nn.Conv2d(3, n_chans1, kernel_size=3, padding=1)\n",
    "        self.conv1_dropout = nn.Dropout2d(p=0.4)\n",
    "        self.conv2 = nn.Conv2d(n_chans1, n_chans1 // 2, kernel_size=3,\n",
    "                               padding=1)\n",
    "        self.conv2_dropout = nn.Dropout2d(p=0.4)\n",
    "        self.fc1 = nn.Linear(8 * 8 * n_chans1 // 2, 32)\n",
    "        self.fc2 = nn.Linear(32, 2)\n",
    "        \n",
    "    def forward(self, x):\n",
    "        out = F.max_pool2d(torch.tanh(self.conv1(x)), 2)\n",
    "        out = self.conv1_dropout(out)\n",
    "        out = F.max_pool2d(torch.tanh(self.conv2(out)), 2)\n",
    "        out = self.conv2_dropout(out)\n",
    "        out = out.view(-1, 8 * 8 * self.n_chans1 // 2)\n",
    "        out = torch.tanh(self.fc1(out))\n",
    "        out = self.fc2(out)\n",
    "        return out"
   ]
  },
  {
   "cell_type": "code",
   "execution_count": 48,
   "metadata": {},
   "outputs": [
    {
     "name": "stdout",
     "output_type": "stream",
     "text": [
      "2024-02-02 23:00:45.220652 Epoch 1, Training loss 0.6035494508257337, Validation loss 0.026127593591809273\n",
      "2024-02-02 23:00:51.604965 Epoch 10, Training loss 0.4137348914222353, Validation loss 0.030379068106412888\n",
      "2024-02-02 23:00:58.216096 Epoch 20, Training loss 0.37843249349077795, Validation loss 0.022808367386460304\n",
      "2024-02-02 23:01:04.791285 Epoch 30, Training loss 0.3620213681155709, Validation loss 0.03307093679904938\n",
      "2024-02-02 23:01:11.839709 Epoch 40, Training loss 0.3425910561137898, Validation loss 0.03351103141903877\n",
      "2024-02-02 23:01:18.847853 Epoch 50, Training loss 0.33015450749807296, Validation loss 0.023994004353880882\n",
      "2024-02-02 23:01:25.785003 Epoch 60, Training loss 0.316511938051813, Validation loss 0.027433497831225395\n",
      "2024-02-02 23:01:34.444698 Epoch 70, Training loss 0.3116909837836673, Validation loss 0.028631899505853653\n",
      "2024-02-02 23:01:44.679654 Epoch 80, Training loss 0.29564610218546195, Validation loss 0.028141336515545845\n",
      "2024-02-02 23:01:52.072503 Epoch 90, Training loss 0.2911725645517088, Validation loss 0.01704195700585842\n",
      "2024-02-02 23:01:59.128064 Epoch 100, Training loss 0.285583828000506, Validation loss 0.033094342797994614\n"
     ]
    }
   ],
   "source": [
    "model = NetDropout(n_chans1=32).to(device=device)\n",
    "optimizer = optim.SGD(model.parameters(), lr=1e-2)\n",
    "loss_fn = nn.CrossEntropyLoss()\n",
    "\n",
    "training_loop_l2reg(\n",
    "    n_epochs = 100,\n",
    "    optimizer = optimizer,\n",
    "    model = model,\n",
    "    loss_fn = loss_fn,\n",
    "    train_loader = train_loader_l2reg,\n",
    "    val_loader = val_loader_l2reg\n",
    ")"
   ]
  },
  {
   "cell_type": "code",
   "execution_count": 49,
   "metadata": {},
   "outputs": [],
   "source": [
    "def validate(model, train_loader, val_loader):\n",
    "    for name, loader in [(\"train\", train_loader), (\"val\", val_loader)]:\n",
    "        correct = 0\n",
    "        total = 0\n",
    "\n",
    "        with torch.no_grad():\n",
    "            for imgs, labels in loader:\n",
    "                imgs = imgs.to(device=device)\n",
    "                labels = labels.to(device=device)\n",
    "                outputs = model(imgs)\n",
    "                _, predicted = torch.max(outputs, dim=1) # <1>\n",
    "                total += labels.shape[0]\n",
    "                correct += int((predicted == labels).sum())\n",
    "\n",
    "        print(\"Accuracy {}: {:.2f}\".format(name , correct / total))"
   ]
  },
  {
   "cell_type": "code",
   "execution_count": 50,
   "metadata": {},
   "outputs": [
    {
     "name": "stdout",
     "output_type": "stream",
     "text": [
      "Accuracy train: 0.90\n",
      "Accuracy val: 0.88\n"
     ]
    }
   ],
   "source": [
    "temp = validate(model, train_loader_l2reg, val_loader_l2reg)"
   ]
  },
  {
   "cell_type": "code",
   "execution_count": 51,
   "metadata": {},
   "outputs": [],
   "source": [
    "class NetBatchNorm(nn.Module):\n",
    "    def __init__(self, n_chans1=32):\n",
    "        super().__init__()\n",
    "        self.n_chans1 = n_chans1\n",
    "        self.conv1 = nn.Conv2d(3, n_chans1, kernel_size=3, padding=1)\n",
    "        self.conv1_batchnorm = nn.BatchNorm2d(num_features=n_chans1)\n",
    "        self.conv2 = nn.Conv2d(n_chans1, n_chans1 // 2, kernel_size=3, \n",
    "                               padding=1)\n",
    "        self.conv2_batchnorm = nn.BatchNorm2d(num_features=n_chans1 // 2)\n",
    "        self.fc1 = nn.Linear(8 * 8 * n_chans1 // 2, 32)\n",
    "        self.fc2 = nn.Linear(32, 2)\n",
    "        \n",
    "    def forward(self, x):\n",
    "        out = self.conv1_batchnorm(self.conv1(x))\n",
    "        out = F.max_pool2d(torch.tanh(out), 2)\n",
    "        out = self.conv2_batchnorm(self.conv2(out))\n",
    "        out = F.max_pool2d(torch.tanh(out), 2)\n",
    "        out = out.view(-1, 8 * 8 * self.n_chans1 // 2)\n",
    "        out = torch.tanh(self.fc1(out))\n",
    "        out = self.fc2(out)\n",
    "        return out"
   ]
  },
  {
   "cell_type": "code",
   "execution_count": 52,
   "metadata": {},
   "outputs": [
    {
     "name": "stdout",
     "output_type": "stream",
     "text": [
      "2024-02-02 23:02:04.643855 Epoch 1, Training loss 0.5237614123304938, Validation loss 0.03154312074184418\n",
      "2024-02-02 23:02:11.957953 Epoch 10, Training loss 0.34961854376990326, Validation loss 0.024021342396736145\n",
      "2024-02-02 23:02:20.655700 Epoch 20, Training loss 0.3004418405567765, Validation loss 0.017988858744502068\n",
      "2024-02-02 23:02:30.109881 Epoch 30, Training loss 0.2556390512710924, Validation loss 0.021829521283507347\n",
      "2024-02-02 23:02:38.374158 Epoch 40, Training loss 0.2199271302314321, Validation loss 0.008360611274838448\n",
      "2024-02-02 23:02:46.773119 Epoch 50, Training loss 0.19288016105913053, Validation loss 0.011521680280566216\n",
      "2024-02-02 23:02:55.475066 Epoch 60, Training loss 0.16661947642921643, Validation loss 0.011796838603913784\n",
      "2024-02-02 23:03:03.877747 Epoch 70, Training loss 0.15302013938024545, Validation loss 0.013003501109778881\n",
      "2024-02-02 23:03:12.221270 Epoch 80, Training loss 0.144280414814782, Validation loss 0.008738027885556221\n",
      "2024-02-02 23:03:20.605466 Epoch 90, Training loss 0.12720299981961583, Validation loss 0.031788263469934464\n",
      "2024-02-02 23:03:29.336376 Epoch 100, Training loss 0.11651065395136548, Validation loss 0.03878233581781387\n"
     ]
    }
   ],
   "source": [
    "model = NetBatchNorm(n_chans1=32).to(device=device)\n",
    "optimizer = optim.SGD(model.parameters(), lr=1e-2)\n",
    "loss_fn = nn.CrossEntropyLoss()\n",
    "\n",
    "training_loop_l2reg(\n",
    "    n_epochs = 100,\n",
    "    optimizer = optimizer,\n",
    "    model = model,\n",
    "    loss_fn = loss_fn,\n",
    "    train_loader = train_loader_l2reg,\n",
    "    val_loader = val_loader_l2reg\n",
    ")"
   ]
  },
  {
   "cell_type": "code",
   "execution_count": 53,
   "metadata": {},
   "outputs": [
    {
     "name": "stdout",
     "output_type": "stream",
     "text": [
      "Accuracy train: 0.99\n",
      "Accuracy val: 0.89\n"
     ]
    }
   ],
   "source": [
    "temp = validate(model, train_loader_l2reg, val_loader_l2reg)"
   ]
  },
  {
   "cell_type": "markdown",
   "metadata": {},
   "source": [
    "## 1.6"
   ]
  },
  {
   "cell_type": "code",
   "execution_count": 56,
   "metadata": {},
   "outputs": [],
   "source": [
    "class NetRes(nn.Module):\n",
    "    def __init__(self, n_chans1=32):\n",
    "        super().__init__()\n",
    "        self.n_chans1 = n_chans1\n",
    "        self.conv1 = nn.Conv2d(3, n_chans1, kernel_size=3, padding=1)\n",
    "        self.conv2 = nn.Conv2d(n_chans1, n_chans1 // 2, kernel_size=3,\n",
    "                               padding=1)\n",
    "        self.conv3 = nn.Conv2d(n_chans1 // 2, n_chans1 // 2,\n",
    "                               kernel_size=3, padding=1)\n",
    "        self.fc1 = nn.Linear(4 * 4 * n_chans1 // 2, 32)\n",
    "        self.fc2 = nn.Linear(32, 2)\n",
    "        \n",
    "    def forward(self, x):\n",
    "        out = F.max_pool2d(torch.relu(self.conv1(x)), 2)\n",
    "        out = F.max_pool2d(torch.relu(self.conv2(out)), 2)\n",
    "        out1 = out\n",
    "        out = F.max_pool2d(torch.relu(self.conv3(out)) + out1, 2)\n",
    "        out = out.view(-1, 4 * 4 * self.n_chans1 // 2)\n",
    "        out = torch.relu(self.fc1(out))\n",
    "        out = self.fc2(out)\n",
    "        return out"
   ]
  },
  {
   "cell_type": "code",
   "execution_count": 57,
   "metadata": {},
   "outputs": [
    {
     "name": "stdout",
     "output_type": "stream",
     "text": [
      "2024-02-02 23:06:35.016064 Epoch 1, Training loss 0.6626764420111468, Validation loss 0.033441461622714996\n",
      "2024-02-02 23:06:41.746170 Epoch 10, Training loss 0.3627097570592431, Validation loss 0.028387676924467087\n",
      "2024-02-02 23:06:48.971982 Epoch 20, Training loss 0.3269421646169796, Validation loss 0.02311667613685131\n",
      "2024-02-02 23:06:56.178780 Epoch 30, Training loss 0.29307958274889906, Validation loss 0.02272788994014263\n",
      "2024-02-02 23:07:04.202436 Epoch 40, Training loss 0.2683913201852969, Validation loss 0.03528887778520584\n",
      "2024-02-02 23:07:12.276506 Epoch 50, Training loss 0.24330535891709054, Validation loss 0.025333290919661522\n",
      "2024-02-02 23:07:19.822722 Epoch 60, Training loss 0.22222803917470252, Validation loss 0.025959253311157227\n",
      "2024-02-02 23:07:27.287402 Epoch 70, Training loss 0.20004560793661008, Validation loss 0.03337766230106354\n",
      "2024-02-02 23:07:34.622954 Epoch 80, Training loss 0.1815308132179224, Validation loss 0.034435294568538666\n",
      "2024-02-02 23:07:41.913411 Epoch 90, Training loss 0.16604303597075165, Validation loss 0.03163756802678108\n",
      "2024-02-02 23:07:48.991126 Epoch 100, Training loss 0.14821080445863638, Validation loss 0.03137131780385971\n"
     ]
    }
   ],
   "source": [
    "model = NetRes(n_chans1=32).to(device=device)\n",
    "optimizer = optim.SGD(model.parameters(), lr=1e-2)\n",
    "loss_fn = nn.CrossEntropyLoss()\n",
    "\n",
    "training_loop_l2reg(\n",
    "    n_epochs = 100,\n",
    "    optimizer = optimizer,\n",
    "    model = model,\n",
    "    loss_fn = loss_fn,\n",
    "    train_loader = train_loader_l2reg,\n",
    "    val_loader = val_loader_l2reg\n",
    ")"
   ]
  },
  {
   "cell_type": "code",
   "execution_count": 58,
   "metadata": {},
   "outputs": [
    {
     "name": "stdout",
     "output_type": "stream",
     "text": [
      "Accuracy train: 0.97\n",
      "Accuracy val: 0.90\n"
     ]
    }
   ],
   "source": [
    "temp = validate(model, train_loader_l2reg, val_loader_l2reg)"
   ]
  },
  {
   "cell_type": "code",
   "execution_count": 59,
   "metadata": {},
   "outputs": [],
   "source": [
    "class ResBlock(nn.Module):\n",
    "    def __init__(self, n_chans):\n",
    "        super(ResBlock, self).__init__()\n",
    "        self.conv = nn.Conv2d(n_chans, n_chans, kernel_size=3,\n",
    "                              padding=1, bias=False)  # <1>\n",
    "        self.batch_norm = nn.BatchNorm2d(num_features=n_chans)\n",
    "        torch.nn.init.kaiming_normal_(self.conv.weight,\n",
    "                                      nonlinearity='relu')  # <2>\n",
    "        torch.nn.init.constant_(self.batch_norm.weight, 0.5)\n",
    "        torch.nn.init.zeros_(self.batch_norm.bias)\n",
    "\n",
    "    def forward(self, x):\n",
    "        out = self.conv(x)\n",
    "        out = self.batch_norm(out)\n",
    "        out = torch.relu(out)\n",
    "        return out + x"
   ]
  },
  {
   "cell_type": "code",
   "execution_count": 60,
   "metadata": {},
   "outputs": [],
   "source": [
    "class NetResDeep(nn.Module):\n",
    "    def __init__(self, n_chans1=32, n_blocks=10):\n",
    "        super().__init__()\n",
    "        self.n_chans1 = n_chans1\n",
    "        self.conv1 = nn.Conv2d(3, n_chans1, kernel_size=3, padding=1)\n",
    "        self.resblocks = nn.Sequential(\n",
    "            *(n_blocks * [ResBlock(n_chans=n_chans1)]))\n",
    "        self.fc1 = nn.Linear(8 * 8 * n_chans1, 32)\n",
    "        self.fc2 = nn.Linear(32, 2)\n",
    "        \n",
    "    def forward(self, x):\n",
    "        out = F.max_pool2d(torch.relu(self.conv1(x)), 2)\n",
    "        out = self.resblocks(out)\n",
    "        out = F.max_pool2d(out, 2)\n",
    "        out = out.view(-1, 8 * 8 * self.n_chans1)\n",
    "        out = torch.relu(self.fc1(out))\n",
    "        out = self.fc2(out)\n",
    "        return out"
   ]
  },
  {
   "cell_type": "code",
   "execution_count": 61,
   "metadata": {},
   "outputs": [
    {
     "name": "stdout",
     "output_type": "stream",
     "text": [
      "2024-02-02 23:09:34.038310 Epoch 1, Training loss 0.6228872628728296, Validation loss 0.04925315082073212\n",
      "2024-02-02 23:09:55.397610 Epoch 10, Training loss 0.31379315114704665, Validation loss 0.022255806252360344\n",
      "2024-02-02 23:10:18.161882 Epoch 20, Training loss 0.2175278065690569, Validation loss 0.03917260840535164\n",
      "2024-02-02 23:10:39.779622 Epoch 30, Training loss 0.16407750798448636, Validation loss 0.05295901373028755\n",
      "2024-02-02 23:11:02.995653 Epoch 40, Training loss 0.13180784368590945, Validation loss 0.0935051441192627\n",
      "2024-02-02 23:11:27.391158 Epoch 50, Training loss 0.24243421060074666, Validation loss 0.041873153299093246\n",
      "2024-02-02 23:11:50.848493 Epoch 60, Training loss 0.10346921087260459, Validation loss 0.053708598017692566\n",
      "2024-02-02 23:12:14.567503 Epoch 70, Training loss 0.08178028208055314, Validation loss 0.06882832944393158\n",
      "2024-02-02 23:12:38.806002 Epoch 80, Training loss 0.07634172612314771, Validation loss 0.06087283417582512\n",
      "2024-02-02 23:13:02.817755 Epoch 90, Training loss 0.07197274049376226, Validation loss 0.05369764193892479\n",
      "2024-02-02 23:13:26.613229 Epoch 100, Training loss 0.06782608132833129, Validation loss 0.06351618468761444\n"
     ]
    }
   ],
   "source": [
    "model = NetResDeep(n_chans1=32).to(device=device)\n",
    "optimizer = optim.SGD(model.parameters(), lr=1e-2)\n",
    "loss_fn = nn.CrossEntropyLoss()\n",
    "\n",
    "training_loop_l2reg(\n",
    "    n_epochs = 100,\n",
    "    optimizer = optimizer,\n",
    "    model = model,\n",
    "    loss_fn = loss_fn,\n",
    "    train_loader = train_loader_l2reg,\n",
    "    val_loader = val_loader_l2reg\n",
    ")"
   ]
  },
  {
   "cell_type": "code",
   "execution_count": 62,
   "metadata": {},
   "outputs": [
    {
     "name": "stdout",
     "output_type": "stream",
     "text": [
      "Accuracy train: 1.00\n",
      "Accuracy val: 0.89\n"
     ]
    }
   ],
   "source": [
    "temp = validate(model, train_loader_l2reg, val_loader_l2reg)"
   ]
  }
 ],
 "metadata": {
  "kernelspec": {
   "display_name": "mytorch",
   "language": "python",
   "name": "python3"
  },
  "language_info": {
   "codemirror_mode": {
    "name": "ipython",
    "version": 3
   },
   "file_extension": ".py",
   "mimetype": "text/x-python",
   "name": "python",
   "nbconvert_exporter": "python",
   "pygments_lexer": "ipython3",
   "version": "3.11.5"
  }
 },
 "nbformat": 4,
 "nbformat_minor": 2
}
