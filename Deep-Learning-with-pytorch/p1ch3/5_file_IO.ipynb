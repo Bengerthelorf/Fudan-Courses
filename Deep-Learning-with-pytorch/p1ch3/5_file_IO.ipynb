{
 "cells": [
  {
   "cell_type": "markdown",
   "metadata": {},
   "source": [
    "# Files' IO"
   ]
  },
  {
   "cell_type": "code",
   "execution_count": 1,
   "metadata": {},
   "outputs": [],
   "source": [
    "import torch\n",
    "points = torch.ones(3, 4)"
   ]
  },
  {
   "cell_type": "markdown",
   "metadata": {},
   "source": [
    "## 写文件"
   ]
  },
  {
   "cell_type": "code",
   "execution_count": 2,
   "metadata": {},
   "outputs": [],
   "source": [
    "torch.save(points, '../data/p1ch3/ourpoints.t')"
   ]
  },
  {
   "cell_type": "code",
   "execution_count": 3,
   "metadata": {},
   "outputs": [],
   "source": [
    "# 用 python 的模式\n",
    "\n",
    "with open('../data/p1ch3/ourpoints.t', 'wb') as f:\n",
    "    torch.save(points, f)"
   ]
  },
  {
   "cell_type": "markdown",
   "metadata": {},
   "source": [
    "👆\n",
    "\n",
    "`open` 函数中的 `wb` 参数表示以二进制写入的方式打开文件\n",
    "\n",
    "| Mode |\tDescription |\n",
    "| --- | --- |\n",
    "| `r` |\tOpen a file for reading. (default) |\n",
    "| `w` |\tOpen a file for writing. Creates a new file if it does not exist or truncates the file if it exists. |\n",
    "| `x` |\tOpen a file for exclusive creation. If the file already exists, the operation fails. |\n",
    "| `a` |\tOpen for appending at the end of the file without truncating it. Creates a new file if it does not exist. |\n",
    "| `t` |\tOpen in text mode. (default) |\n",
    "| `b` |\tOpen in binary mode. |\n",
    "| `+` |\tOpen a file for updating (reading and writing) |\n",
    "\n",
    "中文 👇\n",
    "\n",
    "| 模式 |\t描述 |\n",
    "| --- | --- |\n",
    "| `r` |\t打开一个文件进行读取。（默认） |\n",
    "| `w` |\t打开一个文件进行写入。如果文件不存在则创建新文件，如果文件存在则清空文件。 |\n",
    "| `x` |\t独占方式创建一个文件。如果文件已存在，则操作失败。 |\n",
    "| `a` |\t在文件末尾追加内容，不会清空文件。如果文件不存在则创建新文件。 |\n",
    "| `t` |\t以文本模式打开。（默认） |\n",
    "| `b` |\t以二进制模式打开。 |\n",
    "| `+` |\t打开一个文件进行更新（读取和写入）"
   ]
  },
  {
   "cell_type": "markdown",
   "metadata": {},
   "source": [
    "## 读文件"
   ]
  },
  {
   "cell_type": "code",
   "execution_count": 4,
   "metadata": {},
   "outputs": [
    {
     "data": {
      "text/plain": [
       "tensor([[1., 1., 1., 1.],\n",
       "        [1., 1., 1., 1.],\n",
       "        [1., 1., 1., 1.]])"
      ]
     },
     "execution_count": 4,
     "metadata": {},
     "output_type": "execute_result"
    }
   ],
   "source": [
    "a = torch.load('../data/p1ch3/ourpoints.t')\n",
    "a"
   ]
  },
  {
   "cell_type": "code",
   "execution_count": 5,
   "metadata": {},
   "outputs": [
    {
     "data": {
      "text/plain": [
       "tensor([[1., 1., 1., 1.],\n",
       "        [1., 1., 1., 1.],\n",
       "        [1., 1., 1., 1.]])"
      ]
     },
     "execution_count": 5,
     "metadata": {},
     "output_type": "execute_result"
    }
   ],
   "source": [
    "with open('../data/p1ch3/ourpoints.t', 'rb') as f:\n",
    "    a = torch.load(f)\n",
    "a"
   ]
  },
  {
   "cell_type": "markdown",
   "metadata": {},
   "source": [
    "## h5py"
   ]
  },
  {
   "cell_type": "code",
   "execution_count": 6,
   "metadata": {},
   "outputs": [],
   "source": [
    "import h5py"
   ]
  },
  {
   "cell_type": "code",
   "execution_count": 7,
   "metadata": {},
   "outputs": [],
   "source": [
    "f = h5py.File('../data/p1ch3/ourpoints.hdf5', 'w')\n",
    "dset = f.create_dataset('coords', data = points.numpy())\n",
    "f.close()"
   ]
  },
  {
   "cell_type": "markdown",
   "metadata": {},
   "source": [
    "👆\n",
    "\n",
    "这段代码是使用h5py库来创建一个HDF5文件，并在其中存储数据。\n",
    "\n",
    "具体来说：\n",
    "\n",
    "1. `f = h5py.File('../data/p1ch3/ourpoints.hdf5', 'w')`：这行代码创建了一个HDF5文件，文件路径是'../data/p1ch3/ourpoints.hdf5'，并且以写入模式（'w'）打开这个文件。如果文件已经存在，它将被清空；如果文件不存在，将创建新文件。\n",
    "\n",
    "2. `dset = f.create_dataset('coords', data = points.numpy())`：这行代码在HDF5文件中创建了一个名为'coords'的数据集，并将`points.numpy()`的数据存储在这个数据集中。`points.numpy()`是将PyTorch张量转换为NumPy数组。\n",
    "\n",
    "3. `f.close()`：这行代码关闭了HDF5文件。在完成所有的读写操作后，应该关闭文件以释放系统资源。\n",
    "\n",
    "HDF5是一种存储大规模科学数组数据的文件格式，它可以让你存储大量的数值数据，并且可以高效地被Python或其他语言的程序读取。"
   ]
  },
  {
   "cell_type": "code",
   "execution_count": 8,
   "metadata": {},
   "outputs": [
    {
     "data": {
      "text/plain": [
       "<HDF5 dataset \"coords\": shape (3, 4), type \"<f4\">"
      ]
     },
     "execution_count": 8,
     "metadata": {},
     "output_type": "execute_result"
    }
   ],
   "source": [
    "f = h5py.File('../data/p1ch3/ourpoints.hdf5', 'r')\n",
    "dset = f['coords']\n",
    "dset"
   ]
  },
  {
   "cell_type": "code",
   "execution_count": 10,
   "metadata": {},
   "outputs": [
    {
     "data": {
      "text/plain": [
       "array([[1., 1., 1., 1.],\n",
       "       [1., 1., 1., 1.],\n",
       "       [1., 1., 1., 1.]], dtype=float32)"
      ]
     },
     "execution_count": 10,
     "metadata": {},
     "output_type": "execute_result"
    }
   ],
   "source": [
    "last_points = dset[:]\n",
    "last_points"
   ]
  },
  {
   "cell_type": "code",
   "execution_count": 11,
   "metadata": {},
   "outputs": [
    {
     "data": {
      "text/plain": [
       "tensor([[1., 1., 1., 1.],\n",
       "        [1., 1., 1., 1.],\n",
       "        [1., 1., 1., 1.]])"
      ]
     },
     "execution_count": 11,
     "metadata": {},
     "output_type": "execute_result"
    }
   ],
   "source": [
    "# 由上可见是numpy.array的形式, 转成tensor\n",
    "\n",
    "last_points = torch.from_numpy(dset[:])\n",
    "last_points"
   ]
  },
  {
   "cell_type": "code",
   "execution_count": 13,
   "metadata": {},
   "outputs": [
    {
     "data": {
      "text/plain": [
       "tensor([[1., 1., 1., 1.],\n",
       "        [1., 1., 1., 1.],\n",
       "        [1., 1., 1., 1.]])"
      ]
     },
     "execution_count": 13,
     "metadata": {},
     "output_type": "execute_result"
    }
   ],
   "source": [
    "# 也可以\n",
    "last_points = torch.tensor(dset[:])\n",
    "last_points"
   ]
  },
  {
   "cell_type": "code",
   "execution_count": 17,
   "metadata": {},
   "outputs": [],
   "source": [
    "f.close()"
   ]
  },
  {
   "cell_type": "markdown",
   "metadata": {},
   "source": [
    "👆\n",
    "\n",
    "注意要将其关闭, 以释放系统资源."
   ]
  },
  {
   "cell_type": "markdown",
   "metadata": {},
   "source": [
    "## 打开文件在 GPU"
   ]
  },
  {
   "cell_type": "code",
   "execution_count": 16,
   "metadata": {},
   "outputs": [
    {
     "ename": "RuntimeError",
     "evalue": "Expected all tensors to be on the same device, but found at least two devices, cuda:0 and cpu!",
     "output_type": "error",
     "traceback": [
      "\u001b[0;31m---------------------------------------------------------------------------\u001b[0m",
      "\u001b[0;31mRuntimeError\u001b[0m                              Traceback (most recent call last)",
      "Cell \u001b[0;32mIn[16], line 3\u001b[0m\n\u001b[1;32m      1\u001b[0m points \u001b[38;5;241m=\u001b[39m torch\u001b[38;5;241m.\u001b[39mtensor([[\u001b[38;5;241m4.0\u001b[39m, \u001b[38;5;241m1.0\u001b[39m], [\u001b[38;5;241m5.0\u001b[39m, \u001b[38;5;241m3.0\u001b[39m], [\u001b[38;5;241m2.0\u001b[39m, \u001b[38;5;241m1.0\u001b[39m]])\n\u001b[1;32m      2\u001b[0m points_gpu \u001b[38;5;241m=\u001b[39m torch\u001b[38;5;241m.\u001b[39mtensor([[\u001b[38;5;241m4.0\u001b[39m, \u001b[38;5;241m1.0\u001b[39m], [\u001b[38;5;241m5.0\u001b[39m, \u001b[38;5;241m3.0\u001b[39m], [\u001b[38;5;241m2.0\u001b[39m, \u001b[38;5;241m1.0\u001b[39m]], device\u001b[38;5;241m=\u001b[39m\u001b[38;5;124m'\u001b[39m\u001b[38;5;124mcuda\u001b[39m\u001b[38;5;124m'\u001b[39m)\n\u001b[0;32m----> 3\u001b[0m \u001b[43mpoints\u001b[49m\u001b[43m \u001b[49m\u001b[38;5;241;43m+\u001b[39;49m\u001b[43m \u001b[49m\u001b[43mpoints_gpu\u001b[49m\n",
      "\u001b[0;31mRuntimeError\u001b[0m: Expected all tensors to be on the same device, but found at least two devices, cuda:0 and cpu!"
     ]
    }
   ],
   "source": [
    "points = torch.tensor([[4.0, 1.0], [5.0, 3.0], [2.0, 1.0]])\n",
    "points_gpu = torch.tensor([[4.0, 1.0], [5.0, 3.0], [2.0, 1.0]], device='cuda')\n",
    "points + points_gpu"
   ]
  },
  {
   "cell_type": "code",
   "execution_count": 15,
   "metadata": {},
   "outputs": [
    {
     "data": {
      "text/plain": [
       "tensor([[ 8.,  2.],\n",
       "        [10.,  6.],\n",
       "        [ 4.,  2.]], device='cuda:0')"
      ]
     },
     "execution_count": 15,
     "metadata": {},
     "output_type": "execute_result"
    }
   ],
   "source": [
    "points = points.cuda()\n",
    "points + points_gpu"
   ]
  }
 ],
 "metadata": {
  "kernelspec": {
   "display_name": "mytorch",
   "language": "python",
   "name": "python3"
  },
  "language_info": {
   "codemirror_mode": {
    "name": "ipython",
    "version": 3
   },
   "file_extension": ".py",
   "mimetype": "text/x-python",
   "name": "python",
   "nbconvert_exporter": "python",
   "pygments_lexer": "ipython3",
   "version": "3.11.5"
  }
 },
 "nbformat": 4,
 "nbformat_minor": 2
}
