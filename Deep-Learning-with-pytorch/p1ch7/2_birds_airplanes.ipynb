{
 "cells": [
  {
   "cell_type": "code",
   "execution_count": 1,
   "metadata": {},
   "outputs": [
    {
     "data": {
      "text/plain": [
       "<torch._C.Generator at 0x7fe066938550>"
      ]
     },
     "execution_count": 1,
     "metadata": {},
     "output_type": "execute_result"
    }
   ],
   "source": [
    "%matplotlib inline\n",
    "from matplotlib import pyplot as plt\n",
    "import numpy as np\n",
    "import torch\n",
    "\n",
    "torch.set_printoptions(edgeitems=2)\n",
    "torch.manual_seed(123)"
   ]
  },
  {
   "cell_type": "code",
   "execution_count": 2,
   "metadata": {},
   "outputs": [],
   "source": [
    "class_names = ['airplane','automobile','bird','cat','deer',\n",
    "               'dog','frog','horse','ship','truck']"
   ]
  },
  {
   "cell_type": "code",
   "execution_count": 3,
   "metadata": {},
   "outputs": [],
   "source": [
    "from torchvision import datasets, transforms\n",
    "data_path = '../data-unversioned/p1ch7/'\n",
    "cifar10 = datasets.CIFAR10(\n",
    "    data_path, train=True, download=False,\n",
    "    transform=transforms.Compose([\n",
    "        transforms.ToTensor(),\n",
    "        transforms.Normalize((0.4915, 0.4823, 0.4468),\n",
    "                             (0.2470, 0.2435, 0.2616))\n",
    "    ]))"
   ]
  },
  {
   "cell_type": "code",
   "execution_count": 4,
   "metadata": {},
   "outputs": [],
   "source": [
    "cifar10_val = datasets.CIFAR10(\n",
    "    data_path, train=False, download=False,\n",
    "    transform=transforms.Compose([\n",
    "        transforms.ToTensor(),\n",
    "        transforms.Normalize((0.4915, 0.4823, 0.4468),\n",
    "                             (0.2470, 0.2435, 0.2616))\n",
    "    ]))"
   ]
  },
  {
   "cell_type": "code",
   "execution_count": 5,
   "metadata": {},
   "outputs": [],
   "source": [
    "label_map = {0: 0, 2: 1}"
   ]
  },
  {
   "cell_type": "code",
   "execution_count": 6,
   "metadata": {},
   "outputs": [],
   "source": [
    "class_names = ['airplane', 'bird']\n"
   ]
  },
  {
   "cell_type": "code",
   "execution_count": 7,
   "metadata": {},
   "outputs": [],
   "source": [
    "cifar2 = [(img, label_map[label])\n",
    "          for img, label in cifar10 \n",
    "          if label in [0, 2]]\n",
    "\n",
    "cifar2_val = [(img, label_map[label])\n",
    "              for img, label in cifar10_val\n",
    "              if label in [0, 2]]"
   ]
  },
  {
   "cell_type": "markdown",
   "metadata": {},
   "source": [
    "这段代码是从CIFAR-10数据集中筛选出标签为0和2的样本，并将它们的标签映射到新的标签。\n",
    "\n",
    "以下是详细的步骤：\n",
    "\n",
    "1. `for img, label in cifar10`：这是一个循环，遍历CIFAR-10数据集中的每个样本。每个样本由一个图像（`img`）和一个标签（`label`）组成。\n",
    "\n",
    "2. `if label in [0, 2]`：这是一个条件判断，只有当样本的标签是0或2时，才会执行下一步。\n",
    "\n",
    "3. `(img, label_map[label])`：这是一个元组，包含了图像和新的标签。新的标签是通过`label_map`字典进行映射得到的。\n",
    "\n",
    "4. `cifar2 = [...]`：这是一个列表推导式，它会生成一个新的列表，列表中的每个元素都是一个元组，包含了一个图像和一个新的标签。\n",
    "\n",
    "`cifar2_val`的生成过程与`cifar2`类似，只不过它是从验证集`cifar10_val`中筛选样本。\n",
    "\n",
    "目的是从CIFAR-10数据集中筛选出标签为0和2的样本，并将它们的标签映射到新的标签，以便于进行二分类任务。"
   ]
  },
  {
   "cell_type": "code",
   "execution_count": 8,
   "metadata": {},
   "outputs": [
    {
     "name": "stdout",
     "output_type": "stream",
     "text": [
      "50000 10000\n",
      "10000 2000\n"
     ]
    }
   ],
   "source": [
    "print(len(cifar10), len(cifar10_val))\n",
    "print(len(cifar2), len(cifar2_val))"
   ]
  },
  {
   "cell_type": "markdown",
   "metadata": {},
   "source": [
    "👆\n",
    "\n",
    "注意, 这里的`cifar2`和`cifar10`的`len()`, 看起来一样, 但实际上不一样, `cifar10`是`dataset`的`len`, 而`cifar2`是`list`的`len`."
   ]
  },
  {
   "cell_type": "code",
   "execution_count": 9,
   "metadata": {},
   "outputs": [],
   "source": [
    "import torch.nn as nn\n",
    "\n",
    "n_out = 2"
   ]
  },
  {
   "cell_type": "code",
   "execution_count": 10,
   "metadata": {},
   "outputs": [
    {
     "data": {
      "text/plain": [
       "torch.Size([3, 32, 32])"
      ]
     },
     "execution_count": 10,
     "metadata": {},
     "output_type": "execute_result"
    }
   ],
   "source": [
    "cifar2[0][0].shape"
   ]
  },
  {
   "cell_type": "markdown",
   "metadata": {},
   "source": [
    "```python\n",
    " In[12]: cifar2[0]\n",
    "Out[12]: (tensor([[[ 0.6139, -0.3228,  ..., -0.2752, -0.5451],\n",
    "                   [ 0.6615, -0.1482,  ..., -0.3228, -0.5768],\n",
    "                   ...,\n",
    "                   [ 0.5980,  0.4393,  ..., -0.4340,  0.0265],\n",
    "                   [ 0.9156,  0.8044,  ..., -0.5451, -0.0529]],\n",
    " \n",
    "                  [[ 1.3369,  0.2740,  ...,  0.3867,  0.0968],\n",
    "                   [ 1.4497,  0.5961,  ...,  0.3062,  0.0646],\n",
    "                   ...,\n",
    "                  [ 0.5478,  0.6605,  ...,  0.4028,  0.8860],\n",
    "                  [ 0.4834,  0.9504,  ...,  0.1613,  0.7572]],\n",
    " \n",
    "                 [[-0.4487, -0.7935,  ..., -0.6736, -0.8535],\n",
    "                  [-0.4487, -0.9734,  ..., -0.6286, -0.8535],\n",
    "                  ...,\n",
    "                  [-0.4337, -0.4787,  ..., -1.3032, -0.9884],\n",
    "                  [-0.1789,  0.0310,  ..., -1.3182, -1.0484]]]),\n",
    "         1)\n",
    "```"
   ]
  },
  {
   "cell_type": "code",
   "execution_count": 11,
   "metadata": {},
   "outputs": [
    {
     "data": {
      "text/plain": [
       "list"
      ]
     },
     "execution_count": 11,
     "metadata": {},
     "output_type": "execute_result"
    }
   ],
   "source": [
    "type(cifar2)"
   ]
  },
  {
   "cell_type": "markdown",
   "metadata": {},
   "source": [
    "cifar2 or cifar10: `[(list)[image][label]]`"
   ]
  },
  {
   "cell_type": "code",
   "execution_count": 12,
   "metadata": {},
   "outputs": [
    {
     "data": {
      "text/plain": [
       "Sequential(\n",
       "  (0): Linear(in_features=3072, out_features=512, bias=True)\n",
       "  (1): Tanh()\n",
       "  (2): Linear(in_features=512, out_features=2, bias=True)\n",
       ")"
      ]
     },
     "execution_count": 12,
     "metadata": {},
     "output_type": "execute_result"
    }
   ],
   "source": [
    "model = nn.Sequential(\n",
    "            nn.Linear(3072, 512),\n",
    "            nn.Tanh(),\n",
    "            nn.Linear(512, n_out))\n",
    "\n",
    "model"
   ]
  },
  {
   "cell_type": "code",
   "execution_count": 13,
   "metadata": {},
   "outputs": [],
   "source": [
    "# 把长度为N的向量转换成概率\n",
    "\n",
    "def softmax(x):\n",
    "    return torch.exp(x) / torch.exp(x).sum()"
   ]
  },
  {
   "cell_type": "markdown",
   "metadata": {},
   "source": [
    "$$\n",
    "x _1, x_2, x_3, ..., x_n \\Rightarrow \\frac{e^{x_1}}{\\sum_{i=1}^{n} e^{x_i}}, \\frac{e^{x_2}}{\\sum_{i=1}^{n} e^{x_i}}, \\frac{e^{x_3}}{\\sum_{i=1}^{n} e^{x_i}}, ..., \\frac{e^{x_n}}{\\sum_{i=1}^{n} e^{x_i}}\n",
    "$$\n",
    "\n",
    "---\n",
    "\n",
    "由此, 把二者合起来\n",
    "\n",
    "👇\n"
   ]
  },
  {
   "cell_type": "code",
   "execution_count": 14,
   "metadata": {},
   "outputs": [],
   "source": [
    "model = nn.Sequential(\n",
    "            nn.Linear(3072, 512),\n",
    "            nn.Tanh(),\n",
    "            nn.Linear(512, 2),\n",
    "            nn.Softmax(dim=1))"
   ]
  },
  {
   "cell_type": "code",
   "execution_count": 15,
   "metadata": {},
   "outputs": [
    {
     "name": "stderr",
     "output_type": "stream",
     "text": [
      "Clipping input data to the valid range for imshow with RGB data ([0..1] for floats or [0..255] for integers).\n"
     ]
    },
    {
     "data": {
      "image/png": "[encoded data removed]",
      "text/plain": [
       "<Figure size 640x480 with 1 Axes>"
      ]
     },
     "metadata": {},
     "output_type": "display_data"
    }
   ],
   "source": [
    "img, _ = cifar2[0]\n",
    "\n",
    "plt.imshow(img.permute(1, 2, 0))\n",
    "plt.show()"
   ]
  },
  {
   "cell_type": "code",
   "execution_count": 16,
   "metadata": {},
   "outputs": [],
   "source": [
    "img_batch = img.view(-1).unsqueeze(0)"
   ]
  },
  {
   "cell_type": "code",
   "execution_count": 17,
   "metadata": {},
   "outputs": [
    {
     "data": {
      "text/plain": [
       "torch.Size([3, 32, 32])"
      ]
     },
     "execution_count": 17,
     "metadata": {},
     "output_type": "execute_result"
    }
   ],
   "source": [
    "img.shape"
   ]
  },
  {
   "cell_type": "code",
   "execution_count": 18,
   "metadata": {},
   "outputs": [
    {
     "data": {
      "text/plain": [
       "torch.Size([3072])"
      ]
     },
     "execution_count": 18,
     "metadata": {},
     "output_type": "execute_result"
    }
   ],
   "source": [
    "img.view(-1).shape"
   ]
  },
  {
   "cell_type": "code",
   "execution_count": 19,
   "metadata": {},
   "outputs": [
    {
     "data": {
      "text/plain": [
       "torch.Size([1, 3072])"
      ]
     },
     "execution_count": 19,
     "metadata": {},
     "output_type": "execute_result"
    }
   ],
   "source": [
    "img.view(-1).unsqueeze(0).shape"
   ]
  },
  {
   "cell_type": "markdown",
   "metadata": {},
   "source": [
    "```python\n",
    " In[21]: img.shape\n",
    "Out[21]: torch.Size([3, 32, 32])\n",
    " In[22]: img.view(-1).shape  # <1>\n",
    "Out[22]: torch.Size([3072])\n",
    " In[23]: img.view(-1).unsqueeze(0).shape\n",
    "Out[23]: torch.Size([1, 3072])\n",
    "```\n",
    "\n",
    "<1>: `view(-1)`相当于全部打平"
   ]
  },
  {
   "cell_type": "code",
   "execution_count": 20,
   "metadata": {},
   "outputs": [
    {
     "data": {
      "text/plain": [
       "tensor([[0.4784, 0.5216]], grad_fn=<SoftmaxBackward0>)"
      ]
     },
     "execution_count": 20,
     "metadata": {},
     "output_type": "execute_result"
    }
   ],
   "source": [
    "out = model(img_batch)\n",
    "out"
   ]
  },
  {
   "cell_type": "code",
   "execution_count": 21,
   "metadata": {},
   "outputs": [
    {
     "data": {
      "text/plain": [
       "tensor([1])"
      ]
     },
     "execution_count": 21,
     "metadata": {},
     "output_type": "execute_result"
    }
   ],
   "source": [
    "_, index = torch.max(out, dim=1)\n",
    "\n",
    "index"
   ]
  },
  {
   "cell_type": "code",
   "execution_count": 22,
   "metadata": {},
   "outputs": [
    {
     "data": {
      "text/plain": [
       "tensor([0, 0, 1, 1])"
      ]
     },
     "execution_count": 22,
     "metadata": {},
     "output_type": "execute_result"
    }
   ],
   "source": [
    "out = torch.tensor([\n",
    "    [0.6, 0.4],\n",
    "    [0.9, 0.1],\n",
    "    [0.3, 0.7],\n",
    "    [0.2, 0.8],\n",
    "])\n",
    "\n",
    "_, index = torch.max(out, dim=1)\n",
    "index"
   ]
  },
  {
   "cell_type": "code",
   "execution_count": 23,
   "metadata": {},
   "outputs": [
    {
     "data": {
      "text/plain": [
       "tensor([[0],\n",
       "        [0],\n",
       "        [1],\n",
       "        [1]])"
      ]
     },
     "execution_count": 23,
     "metadata": {},
     "output_type": "execute_result"
    }
   ],
   "source": [
    "class_index = torch.tensor([0, 0, 1, 1]).unsqueeze(1)\n",
    "class_index"
   ]
  },
  {
   "cell_type": "markdown",
   "metadata": {},
   "source": [
    "`unsqueeze()`是PyTorch中的一个函数，用于在张量的指定位置添加一个维度。\n",
    "\n",
    "在这个例子中，`unsqueeze(1)`是在张量的第二个维度（索引从0开始）添加一个维度。原始的张量`torch.tensor([0, 0, 1, 1])`是一个一维张量，形状为`(4,)`。调用`unsqueeze(1)`后，它变成了一个二维张量，形状为`(4, 1)`。"
   ]
  },
  {
   "cell_type": "code",
   "execution_count": 24,
   "metadata": {},
   "outputs": [
    {
     "data": {
      "text/plain": [
       "tensor([[1., 0.],\n",
       "        [1., 0.],\n",
       "        [0., 1.],\n",
       "        [0., 1.]])"
      ]
     },
     "execution_count": 24,
     "metadata": {},
     "output_type": "execute_result"
    }
   ],
   "source": [
    "class_index = torch.tensor([0, 0, 1, 1]).unsqueeze(1)\n",
    "truth = torch.zeros((4,2))\n",
    "truth.scatter_(dim=1, index=class_index, value=1.0)\n",
    "truth"
   ]
  },
  {
   "cell_type": "markdown",
   "metadata": {},
   "source": [
    "即转成一个看起来像是one-hot的的形式, 虽然这里和one-hot八竿子打不着.\n",
    "\n",
    "$$\n",
    "\\begin{bmatrix}\n",
    "0 \\\\ 0 \\\\ 1 \\\\ 1\n",
    "\\end{bmatrix}\n",
    "\\Rightarrow\n",
    "\\begin{bmatrix}\n",
    "1 & 0 \\\\ 1 & 0 \\\\ 0 & 1 \\\\ 0 & 1\n",
    "\\end{bmatrix}\n",
    "$$"
   ]
  },
  {
   "cell_type": "code",
   "execution_count": 25,
   "metadata": {},
   "outputs": [
    {
     "data": {
      "text/plain": [
       "tensor(0.1500)"
      ]
     },
     "execution_count": 25,
     "metadata": {},
     "output_type": "execute_result"
    }
   ],
   "source": [
    "def mse(out):\n",
    "    return ((out - truth) ** 2).sum(dim=1).mean()\n",
    "mse(out)"
   ]
  },
  {
   "cell_type": "code",
   "execution_count": 26,
   "metadata": {},
   "outputs": [
    {
     "data": {
      "text/plain": [
       "tensor([[0.6000],\n",
       "        [0.9000],\n",
       "        [0.7000],\n",
       "        [0.8000]])"
      ]
     },
     "execution_count": 26,
     "metadata": {},
     "output_type": "execute_result"
    }
   ],
   "source": [
    "out.gather(dim=1, index=class_index)"
   ]
  },
  {
   "cell_type": "code",
   "execution_count": 27,
   "metadata": {},
   "outputs": [
    {
     "data": {
      "text/plain": [
       "tensor([[0.6000, 0.4000],\n",
       "        [0.9000, 0.1000],\n",
       "        [0.3000, 0.7000],\n",
       "        [0.2000, 0.8000]])"
      ]
     },
     "execution_count": 27,
     "metadata": {},
     "output_type": "execute_result"
    }
   ],
   "source": [
    "out"
   ]
  },
  {
   "cell_type": "code",
   "execution_count": 28,
   "metadata": {},
   "outputs": [
    {
     "data": {
      "text/plain": [
       "tensor([0.3024])"
      ]
     },
     "execution_count": 28,
     "metadata": {},
     "output_type": "execute_result"
    }
   ],
   "source": [
    "def likelihood(out):\n",
    "    prod = 1.0\n",
    "    for x in out.gather(dim=1, index=class_index):\n",
    "        prod *= x\n",
    "    return prod\n",
    "\n",
    "likelihood(out)"
   ]
  },
  {
   "cell_type": "markdown",
   "metadata": {},
   "source": [
    "即:\n",
    "\n",
    "$$\n",
    "prod = out \\_ 1 \\times out \\_ 2 \\times \\cdots \\times out \\_ n\n",
    "$$"
   ]
  },
  {
   "cell_type": "code",
   "execution_count": 29,
   "metadata": {},
   "outputs": [
    {
     "data": {
      "text/plain": [
       "tensor([1.1960])"
      ]
     },
     "execution_count": 29,
     "metadata": {},
     "output_type": "execute_result"
    }
   ],
   "source": [
    "def neg_log_likelihood(out):\n",
    "    return -likelihood(out).log()\n",
    "\n",
    "neg_log_likelihood(out)"
   ]
  },
  {
   "cell_type": "code",
   "execution_count": 30,
   "metadata": {},
   "outputs": [
    {
     "data": {
      "text/plain": [
       "tensor([1.1960])"
      ]
     },
     "execution_count": 30,
     "metadata": {},
     "output_type": "execute_result"
    }
   ],
   "source": [
    "def neg_log_likelihood(out):\n",
    "    prod = 1.0\n",
    "    for x in out.gather(dim=1, index=class_index):\n",
    "        prod *= x\n",
    "    return -prod.log()\n",
    "\n",
    "neg_log_likelihood(out)"
   ]
  },
  {
   "cell_type": "markdown",
   "metadata": {},
   "source": [
    "> 以下为试着用`nn.NLLLose()`来实现和上面一样的效果, 但是不会 😭"
   ]
  },
  {
   "cell_type": "code",
   "execution_count": 31,
   "metadata": {},
   "outputs": [
    {
     "data": {
      "text/plain": [
       "tensor(0.4799)"
      ]
     },
     "execution_count": 31,
     "metadata": {},
     "output_type": "execute_result"
    }
   ],
   "source": [
    "loss = nn.NLLLoss()\n",
    "out_log_softmax = torch.log_softmax(out, dim=1)\n",
    "loss(out_log_softmax, class_index.view(-1))"
   ]
  },
  {
   "cell_type": "code",
   "execution_count": 32,
   "metadata": {},
   "outputs": [],
   "source": [
    "loss = nn.NLLLoss()\n",
    "# loss(out.view(-1).unsqueeze(0), torch.tensor([0]))"
   ]
  },
  {
   "cell_type": "code",
   "execution_count": 33,
   "metadata": {},
   "outputs": [
    {
     "data": {
      "text/plain": [
       "tensor(-0.6000)"
      ]
     },
     "execution_count": 33,
     "metadata": {},
     "output_type": "execute_result"
    }
   ],
   "source": [
    "loss(out\n",
    "     .gather(dim=1, index=class_index)\n",
    "     .view(-1)\n",
    "     .unsqueeze(0),\n",
    "     torch.tensor([0])\n",
    ")"
   ]
  },
  {
   "cell_type": "markdown",
   "metadata": {},
   "source": [
    "$$\n",
    "NLL = - \\log(prod) = - \\sum_{i=1}^{n} \\log(out \\_ i)\n",
    "$$"
   ]
  },
  {
   "cell_type": "markdown",
   "metadata": {},
   "source": [
    "---"
   ]
  },
  {
   "cell_type": "code",
   "execution_count": 34,
   "metadata": {},
   "outputs": [
    {
     "data": {
      "text/plain": [
       "tensor([[0., 1.]])"
      ]
     },
     "execution_count": 34,
     "metadata": {},
     "output_type": "execute_result"
    }
   ],
   "source": [
    "softmax = nn.Softmax(dim=1)\n",
    "\n",
    "log_softmax = nn.LogSoftmax(dim=1)\n",
    "\n",
    "x = torch.tensor([[0.0, 104.0]])\n",
    "softmax(x)"
   ]
  },
  {
   "cell_type": "code",
   "execution_count": 35,
   "metadata": {},
   "outputs": [
    {
     "data": {
      "text/plain": [
       "tensor([[-inf, 0.]])"
      ]
     },
     "execution_count": 35,
     "metadata": {},
     "output_type": "execute_result"
    }
   ],
   "source": [
    "torch.log(softmax(x))"
   ]
  },
  {
   "cell_type": "code",
   "execution_count": 36,
   "metadata": {},
   "outputs": [
    {
     "data": {
      "text/plain": [
       "tensor([[-104.,    0.]])"
      ]
     },
     "execution_count": 36,
     "metadata": {},
     "output_type": "execute_result"
    }
   ],
   "source": [
    "log_softmax(x)"
   ]
  },
  {
   "cell_type": "markdown",
   "metadata": {},
   "source": [
    "```python\n",
    " In[29]: x = torch.tensor([[0.0, 104.0]])\n",
    " In[30]: tensor.log(softmax(x))\n",
    "Out[30]: tensor([[-inf, 0.]])\n",
    " In[31]: nn.LogSoftmax(dim=1)(x)\n",
    "Out[31]: tensor([[-104., 0.]])\n",
    "```\n",
    "\n",
    "由于`softmax`函数的输出值在0到1之间, 因此它们的对数的输入值在趋向于0的时候会趋向于`-inf`, 这会导致数值计算错误. 为了解决这个问题, PyTorch提供了一个`nn.LogSoftmax`类, 它可以确保输入值始终在可计算的范围内."
   ]
  },
  {
   "cell_type": "code",
   "execution_count": 37,
   "metadata": {},
   "outputs": [],
   "source": [
    "model = nn.Sequential(\n",
    "            nn.Linear(3072, 512),\n",
    "            nn.Tanh(),\n",
    "            nn.Linear(512, 2),\n",
    "            nn.LogSoftmax(dim=1))"
   ]
  },
  {
   "cell_type": "code",
   "execution_count": 38,
   "metadata": {},
   "outputs": [],
   "source": [
    "loss = nn.NLLLoss()"
   ]
  },
  {
   "cell_type": "markdown",
   "metadata": {},
   "source": [
    "负对数似然（Negative Log Likelihood，NLL）的计算过程。在这个公式中，`prod`表示的是所有输出概率的乘积，`out_i`表示的是第`i`个输出的概率。\n",
    "\n",
    "具体来说，这个公式首先计算了所有输出概率的乘积`prod`，然后取对数，最后取负数。这个过程可以用以下的数学公式表示：\n",
    "\n",
    "$$\n",
    "NLL = - \\log(prod) = - \\log(\\prod_{i=1}^{n} out_i) = - \\sum_{i=1}^{n} \\log(out_i)\n",
    "$$\n",
    "\n",
    "这里，$\\prod_{i=1}^{n} out_i$表示的是所有输出概率的乘积，$\\sum_{i=1}^{n} \\log(out_i)$表示的是所有输出概率对数的和。这个公式说明，负对数似然等于所有输出概率对数的和的负数。"
   ]
  },
  {
   "cell_type": "code",
   "execution_count": 39,
   "metadata": {},
   "outputs": [
    {
     "data": {
      "text/plain": [
       "tensor(0.5077, grad_fn=<NllLossBackward0>)"
      ]
     },
     "execution_count": 39,
     "metadata": {},
     "output_type": "execute_result"
    }
   ],
   "source": [
    "img, label = cifar2[0]\n",
    "\n",
    "out = model(img.view(-1).unsqueeze(0))\n",
    "\n",
    "loss(out, torch.tensor([label]))"
   ]
  },
  {
   "cell_type": "code",
   "execution_count": 40,
   "metadata": {},
   "outputs": [
    {
     "data": {
      "text/plain": [
       "(tensor([[-0.9211, -0.5077]], grad_fn=<LogSoftmaxBackward0>), tensor([1]))"
      ]
     },
     "execution_count": 40,
     "metadata": {},
     "output_type": "execute_result"
    }
   ],
   "source": [
    "out, torch.tensor([label])"
   ]
  },
  {
   "cell_type": "markdown",
   "metadata": {},
   "source": [
    "👆\n",
    "\n",
    "不用one-hot"
   ]
  },
  {
   "cell_type": "code",
   "execution_count": 332,
   "metadata": {},
   "outputs": [
    {
     "name": "stdout",
     "output_type": "stream",
     "text": [
      "Epoch: 0, Loss: 8.307038\n",
      "Epoch: 1, Loss: 5.457431\n",
      "Epoch: 2, Loss: 3.882373\n",
      "Epoch: 3, Loss: 3.154704\n",
      "Epoch: 4, Loss: 11.443868\n",
      "Epoch: 5, Loss: 7.831904\n",
      "Epoch: 6, Loss: 0.055682\n",
      "Epoch: 7, Loss: 7.118860\n",
      "Epoch: 8, Loss: 6.412682\n",
      "Epoch: 9, Loss: 5.462630\n",
      "Epoch: 10, Loss: 6.324239\n",
      "Epoch: 11, Loss: 8.132204\n",
      "Epoch: 12, Loss: 4.478361\n",
      "Epoch: 13, Loss: 0.397974\n",
      "Epoch: 14, Loss: 3.924431\n",
      "Epoch: 15, Loss: 6.191980\n",
      "Epoch: 16, Loss: 4.834426\n",
      "Epoch: 17, Loss: 6.948432\n",
      "Epoch: 18, Loss: 0.884499\n",
      "Epoch: 19, Loss: 10.726386\n",
      "Epoch: 20, Loss: 8.787334\n",
      "Epoch: 21, Loss: 5.266410\n",
      "Epoch: 22, Loss: 7.096104\n",
      "Epoch: 23, Loss: 4.407344\n",
      "Epoch: 24, Loss: 6.470562\n",
      "Epoch: 25, Loss: 10.756291\n",
      "Epoch: 26, Loss: 16.045588\n",
      "Epoch: 27, Loss: 13.241747\n",
      "Epoch: 28, Loss: 8.135650\n",
      "Epoch: 29, Loss: 9.221145\n",
      "Epoch: 30, Loss: 11.256797\n",
      "Epoch: 31, Loss: 13.286485\n",
      "Epoch: 32, Loss: 14.590942\n",
      "Epoch: 33, Loss: 19.243477\n",
      "Epoch: 34, Loss: 7.613646\n",
      "Epoch: 35, Loss: 8.939101\n",
      "Epoch: 36, Loss: 5.921707\n",
      "Epoch: 37, Loss: 7.737715\n",
      "Epoch: 38, Loss: 10.683874\n",
      "Epoch: 39, Loss: 6.302479\n",
      "Epoch: 40, Loss: 15.454903\n",
      "Epoch: 41, Loss: 4.501896\n",
      "Epoch: 42, Loss: 0.014458\n",
      "Epoch: 43, Loss: 5.627636\n",
      "Epoch: 44, Loss: 13.283578\n",
      "Epoch: 45, Loss: 7.289899\n",
      "Epoch: 46, Loss: 17.841761\n",
      "Epoch: 47, Loss: 5.574378\n",
      "Epoch: 48, Loss: 16.024536\n",
      "Epoch: 49, Loss: 10.188716\n",
      "Epoch: 50, Loss: 8.278514\n",
      "Epoch: 51, Loss: 0.831824\n",
      "Epoch: 52, Loss: 0.090203\n",
      "Epoch: 53, Loss: 6.976837\n",
      "Epoch: 54, Loss: 5.525522\n",
      "Epoch: 55, Loss: 7.146000\n",
      "Epoch: 56, Loss: 10.842909\n",
      "Epoch: 57, Loss: 8.857367\n",
      "Epoch: 58, Loss: 11.958219\n",
      "Epoch: 59, Loss: 9.046844\n",
      "Epoch: 60, Loss: 13.173420\n",
      "Epoch: 61, Loss: 12.924408\n",
      "Epoch: 62, Loss: 7.175578\n",
      "Epoch: 63, Loss: 10.324291\n",
      "Epoch: 64, Loss: 18.187366\n",
      "Epoch: 65, Loss: 17.042473\n",
      "Epoch: 66, Loss: 15.801579\n",
      "Epoch: 67, Loss: 7.656318\n",
      "Epoch: 68, Loss: 6.750770\n",
      "Epoch: 69, Loss: 16.122250\n",
      "Epoch: 70, Loss: 15.059435\n",
      "Epoch: 71, Loss: 11.102892\n",
      "Epoch: 72, Loss: 16.944075\n",
      "Epoch: 73, Loss: 11.915767\n",
      "Epoch: 74, Loss: 7.378919\n",
      "Epoch: 75, Loss: 17.355034\n",
      "Epoch: 76, Loss: 13.972976\n",
      "Epoch: 77, Loss: 16.009201\n",
      "Epoch: 78, Loss: 15.350540\n",
      "Epoch: 79, Loss: 23.867161\n",
      "Epoch: 80, Loss: 27.666374\n",
      "Epoch: 81, Loss: 8.405586\n",
      "Epoch: 82, Loss: 4.449419\n",
      "Epoch: 83, Loss: 11.115731\n",
      "Epoch: 84, Loss: 3.102489\n",
      "Epoch: 85, Loss: 0.083001\n",
      "Epoch: 86, Loss: 5.213762\n",
      "Epoch: 87, Loss: 10.287248\n",
      "Epoch: 88, Loss: 3.234745\n",
      "Epoch: 89, Loss: 8.348825\n",
      "Epoch: 90, Loss: 0.771752\n",
      "Epoch: 91, Loss: 10.688971\n",
      "Epoch: 92, Loss: 6.329175\n",
      "Epoch: 93, Loss: 7.013631\n",
      "Epoch: 94, Loss: 0.126584\n",
      "Epoch: 95, Loss: 1.748496\n",
      "Epoch: 96, Loss: 0.000046\n",
      "Epoch: 97, Loss: 18.159552\n",
      "Epoch: 98, Loss: 16.878725\n",
      "Epoch: 99, Loss: 19.723660\n"
     ]
    }
   ],
   "source": [
    "import torch\n",
    "import torch.nn as nn\n",
    "import torch.optim as optim\n",
    "\n",
    "model = nn.Sequential(\n",
    "            nn.Linear(3072, 512),\n",
    "            nn.Tanh(),\n",
    "            nn.Linear(512, 2),\n",
    "            nn.LogSoftmax(dim=1))\n",
    "\n",
    "learning_rate = 1e-2\n",
    "\n",
    "optimizer = optim.SGD(model.parameters(), lr=learning_rate)\n",
    "\n",
    "loss_fn = nn.NLLLoss()\n",
    "\n",
    "n_epochs = 100\n",
    "\n",
    "for epoch in range(n_epochs):\n",
    "    for img, label in cifar2:\n",
    "        out = model(img.view(-1).unsqueeze(0))\n",
    "        loss = loss_fn(out, torch.tensor([label]))\n",
    "                \n",
    "        optimizer.zero_grad()\n",
    "        loss.backward()\n",
    "        optimizer.step()\n",
    "\n",
    "    print(\"Epoch: %d, Loss: %f\" % (epoch, float(loss)))"
   ]
  },
  {
   "cell_type": "markdown",
   "metadata": {},
   "source": [
    "👆\n",
    "\n",
    "其`CUDA`改版在 [bird_airplane_cuda.ipynb🔗](./2_birds_airplanes_cuda.ipynb) 中.\n",
    "\n",
    "---\n",
    "\n",
    "但是, 这些都是错误做法, 下面为正确做法\n",
    "\n",
    "👇"
   ]
  },
  {
   "cell_type": "code",
   "execution_count": 41,
   "metadata": {},
   "outputs": [],
   "source": [
    "train_loader = torch.utils.data.DataLoader(cifar2, batch_size=64, shuffle=True)"
   ]
  },
  {
   "cell_type": "markdown",
   "metadata": {},
   "source": [
    "这段代码创建了一个数据加载器（DataLoader），它可以用于在训练模型时加载数据。\n",
    "\n",
    "`torch.utils.data.DataLoader`是PyTorch中的一个类，它可以用于创建一个可迭代的数据加载器，这个数据加载器可以在训练模型时按批次加载数据。\n",
    "\n",
    "在这段代码中，`cifar2`是一个数据集，`batch_size=64`表示每个批次包含64个样本，`shuffle=True`表示在每个训练周期开始时，数据加载器会随机打乱数据集。\n",
    "\n",
    "这样，当你在训练模型时遍历这个数据加载器，你会得到一系列包含64个样本的批次，这些批次是从打乱后的数据集中取出的。这可以帮助提高模型的泛化能力，因为模型不会在每个训练周期看到相同的数据顺序。"
   ]
  },
  {
   "cell_type": "code",
   "execution_count": 42,
   "metadata": {},
   "outputs": [],
   "source": [
    "model = nn.Sequential(\n",
    "            nn.Linear(3072, 128),\n",
    "            nn.Tanh(),\n",
    "            nn.Linear(128, 2),\n",
    "            nn.LogSoftmax(dim=1))"
   ]
  },
  {
   "cell_type": "code",
   "execution_count": 44,
   "metadata": {},
   "outputs": [
    {
     "name": "stdout",
     "output_type": "stream",
     "text": [
      "Epoch: 0, Loss: 3.020157\n",
      "Epoch: 1, Loss: 1.885714\n",
      "Epoch: 2, Loss: 2.744082\n",
      "Epoch: 3, Loss: 1.742298\n",
      "Epoch: 4, Loss: 2.140091\n",
      "Epoch: 5, Loss: 3.345408\n",
      "Epoch: 6, Loss: 4.386397\n"
     ]
    },
    {
     "ename": "KeyboardInterrupt",
     "evalue": "",
     "output_type": "error",
     "traceback": [
      "\u001b[0;31m---------------------------------------------------------------------------\u001b[0m",
      "\u001b[0;31mKeyboardInterrupt\u001b[0m                         Traceback (most recent call last)",
      "Cell \u001b[0;32mIn[44], line 19\u001b[0m\n\u001b[1;32m     16\u001b[0m     loss \u001b[38;5;241m=\u001b[39m loss_fn(out, torch\u001b[38;5;241m.\u001b[39mtensor([label]))\n\u001b[1;32m     18\u001b[0m     optimizer\u001b[38;5;241m.\u001b[39mzero_grad()\n\u001b[0;32m---> 19\u001b[0m     \u001b[43mloss\u001b[49m\u001b[38;5;241;43m.\u001b[39;49m\u001b[43mbackward\u001b[49m\u001b[43m(\u001b[49m\u001b[43m)\u001b[49m\n\u001b[1;32m     20\u001b[0m     optimizer\u001b[38;5;241m.\u001b[39mstep()\n\u001b[1;32m     22\u001b[0m \u001b[38;5;28mprint\u001b[39m(\u001b[38;5;124m\"\u001b[39m\u001b[38;5;124mEpoch: \u001b[39m\u001b[38;5;132;01m%d\u001b[39;00m\u001b[38;5;124m, Loss: \u001b[39m\u001b[38;5;132;01m%f\u001b[39;00m\u001b[38;5;124m\"\u001b[39m \u001b[38;5;241m%\u001b[39m (epoch, \u001b[38;5;28mfloat\u001b[39m(loss)))\n",
      "File \u001b[0;32m~/.local/lib/python3.11/site-packages/torch/_tensor.py:487\u001b[0m, in \u001b[0;36mTensor.backward\u001b[0;34m(self, gradient, retain_graph, create_graph, inputs)\u001b[0m\n\u001b[1;32m    477\u001b[0m \u001b[38;5;28;01mif\u001b[39;00m has_torch_function_unary(\u001b[38;5;28mself\u001b[39m):\n\u001b[1;32m    478\u001b[0m     \u001b[38;5;28;01mreturn\u001b[39;00m handle_torch_function(\n\u001b[1;32m    479\u001b[0m         Tensor\u001b[38;5;241m.\u001b[39mbackward,\n\u001b[1;32m    480\u001b[0m         (\u001b[38;5;28mself\u001b[39m,),\n\u001b[0;32m   (...)\u001b[0m\n\u001b[1;32m    485\u001b[0m         inputs\u001b[38;5;241m=\u001b[39minputs,\n\u001b[1;32m    486\u001b[0m     )\n\u001b[0;32m--> 487\u001b[0m \u001b[43mtorch\u001b[49m\u001b[38;5;241;43m.\u001b[39;49m\u001b[43mautograd\u001b[49m\u001b[38;5;241;43m.\u001b[39;49m\u001b[43mbackward\u001b[49m\u001b[43m(\u001b[49m\n\u001b[1;32m    488\u001b[0m \u001b[43m    \u001b[49m\u001b[38;5;28;43mself\u001b[39;49m\u001b[43m,\u001b[49m\u001b[43m \u001b[49m\u001b[43mgradient\u001b[49m\u001b[43m,\u001b[49m\u001b[43m \u001b[49m\u001b[43mretain_graph\u001b[49m\u001b[43m,\u001b[49m\u001b[43m \u001b[49m\u001b[43mcreate_graph\u001b[49m\u001b[43m,\u001b[49m\u001b[43m \u001b[49m\u001b[43minputs\u001b[49m\u001b[38;5;241;43m=\u001b[39;49m\u001b[43minputs\u001b[49m\n\u001b[1;32m    489\u001b[0m \u001b[43m\u001b[49m\u001b[43m)\u001b[49m\n",
      "File \u001b[0;32m~/.local/lib/python3.11/site-packages/torch/autograd/__init__.py:200\u001b[0m, in \u001b[0;36mbackward\u001b[0;34m(tensors, grad_tensors, retain_graph, create_graph, grad_variables, inputs)\u001b[0m\n\u001b[1;32m    195\u001b[0m     retain_graph \u001b[38;5;241m=\u001b[39m create_graph\n\u001b[1;32m    197\u001b[0m \u001b[38;5;66;03m# The reason we repeat same the comment below is that\u001b[39;00m\n\u001b[1;32m    198\u001b[0m \u001b[38;5;66;03m# some Python versions print out the first line of a multi-line function\u001b[39;00m\n\u001b[1;32m    199\u001b[0m \u001b[38;5;66;03m# calls in the traceback and some print out the last line\u001b[39;00m\n\u001b[0;32m--> 200\u001b[0m \u001b[43mVariable\u001b[49m\u001b[38;5;241;43m.\u001b[39;49m\u001b[43m_execution_engine\u001b[49m\u001b[38;5;241;43m.\u001b[39;49m\u001b[43mrun_backward\u001b[49m\u001b[43m(\u001b[49m\u001b[43m  \u001b[49m\u001b[38;5;66;43;03m# Calls into the C++ engine to run the backward pass\u001b[39;49;00m\n\u001b[1;32m    201\u001b[0m \u001b[43m    \u001b[49m\u001b[43mtensors\u001b[49m\u001b[43m,\u001b[49m\u001b[43m \u001b[49m\u001b[43mgrad_tensors_\u001b[49m\u001b[43m,\u001b[49m\u001b[43m \u001b[49m\u001b[43mretain_graph\u001b[49m\u001b[43m,\u001b[49m\u001b[43m \u001b[49m\u001b[43mcreate_graph\u001b[49m\u001b[43m,\u001b[49m\u001b[43m \u001b[49m\u001b[43minputs\u001b[49m\u001b[43m,\u001b[49m\n\u001b[1;32m    202\u001b[0m \u001b[43m    \u001b[49m\u001b[43mallow_unreachable\u001b[49m\u001b[38;5;241;43m=\u001b[39;49m\u001b[38;5;28;43;01mTrue\u001b[39;49;00m\u001b[43m,\u001b[49m\u001b[43m \u001b[49m\u001b[43maccumulate_grad\u001b[49m\u001b[38;5;241;43m=\u001b[39;49m\u001b[38;5;28;43;01mTrue\u001b[39;49;00m\u001b[43m)\u001b[49m\n",
      "\u001b[0;31mKeyboardInterrupt\u001b[0m: "
     ]
    }
   ],
   "source": [
    "import torch\n",
    "import torch.nn as nn\n",
    "import torch.optim as optim\n",
    "\n",
    "learning_rate = 1e-2\n",
    "\n",
    "optimizer = optim.SGD(model.parameters(), lr=learning_rate)\n",
    "\n",
    "loss_fn = nn.NLLLoss()\n",
    "\n",
    "n_epochs = 100\n",
    "\n",
    "for epoch in range(n_epochs):\n",
    "    for img, label in cifar2:\n",
    "        out = model(img.view(-1).unsqueeze(0))\n",
    "        loss = loss_fn(out, torch.tensor([label]))\n",
    "                \n",
    "        optimizer.zero_grad()\n",
    "        loss.backward()\n",
    "        optimizer.step()\n",
    "\n",
    "    print(\"Epoch: %d, Loss: %f\" % (epoch, float(loss)))"
   ]
  },
  {
   "cell_type": "code",
   "execution_count": 79,
   "metadata": {},
   "outputs": [
    {
     "name": "stderr",
     "output_type": "stream",
     "text": [
      "/tmp/ipykernel_2975/3483380273.py:6: UserWarning: To copy construct from a tensor, it is recommended to use sourceTensor.clone().detach() or sourceTensor.clone().detach().requires_grad_(True), rather than torch.tensor(sourceTensor).\n",
      "  cifar2 = [(img.to(device), torch.tensor(label).to(device)) for img, label in cifar2]\n"
     ]
    }
   ],
   "source": [
    "# 在 CUDA 上运行\n",
    "\n",
    "device = (torch.device('cuda') if torch.cuda.is_available()\n",
    "            else torch.device('cpu'))\n",
    "\n",
    "cifar2 = [(img.to(device), torch.tensor(label).to(device)) for img, label in cifar2]\n",
    "\n",
    "train_loader = torch.utils.data.DataLoader(cifar2, batch_size=64, shuffle=True)"
   ]
  },
  {
   "cell_type": "code",
   "execution_count": 80,
   "metadata": {},
   "outputs": [],
   "source": [
    "for imgs, labels in train_loader:\n",
    "    imgs = imgs.to(device)\n",
    "    # print(imgs.device)\n",
    "    labels = labels.to(device)\n",
    "    # 然后你可以在GPU上使用imgs和labels进行计算"
   ]
  },
  {
   "cell_type": "code",
   "execution_count": 77,
   "metadata": {},
   "outputs": [],
   "source": [
    "model = nn.Sequential(\n",
    "            nn.Linear(3072, 512),\n",
    "            nn.Tanh(),\n",
    "            nn.Linear(512, 2),\n",
    "            nn.LogSoftmax(dim=1)).to(device)"
   ]
  },
  {
   "cell_type": "code",
   "execution_count": 81,
   "metadata": {},
   "outputs": [
    {
     "data": {
      "text/plain": [
       "device(type='cuda', index=0)"
      ]
     },
     "execution_count": 81,
     "metadata": {},
     "output_type": "execute_result"
    }
   ],
   "source": [
    "imgs.device"
   ]
  },
  {
   "cell_type": "code",
   "execution_count": 82,
   "metadata": {},
   "outputs": [
    {
     "name": "stdout",
     "output_type": "stream",
     "text": [
      "cuda:0\n",
      "Epoch: 0, Loss: 0.401982\n",
      "Epoch: 1, Loss: 0.381849\n",
      "Epoch: 2, Loss: 0.450954\n",
      "Epoch: 3, Loss: 0.415909\n",
      "Epoch: 4, Loss: 0.411755\n",
      "Epoch: 5, Loss: 0.431124\n",
      "Epoch: 6, Loss: 0.348293\n",
      "Epoch: 7, Loss: 0.386919\n",
      "Epoch: 8, Loss: 0.498217\n",
      "Epoch: 9, Loss: 0.220726\n",
      "Epoch: 10, Loss: 0.228338\n",
      "Epoch: 11, Loss: 0.215935\n",
      "Epoch: 12, Loss: 0.213874\n",
      "Epoch: 13, Loss: 0.583013\n",
      "Epoch: 14, Loss: 0.152084\n",
      "Epoch: 15, Loss: 0.344742\n",
      "Epoch: 16, Loss: 0.240151\n",
      "Epoch: 17, Loss: 0.656426\n",
      "Epoch: 18, Loss: 0.272190\n",
      "Epoch: 19, Loss: 0.225819\n",
      "Epoch: 20, Loss: 0.138272\n",
      "Epoch: 21, Loss: 0.208415\n",
      "Epoch: 22, Loss: 0.087229\n",
      "Epoch: 23, Loss: 0.214843\n",
      "Epoch: 24, Loss: 0.119950\n",
      "Epoch: 25, Loss: 0.315016\n",
      "Epoch: 26, Loss: 0.390686\n",
      "Epoch: 27, Loss: 0.373909\n",
      "Epoch: 28, Loss: 0.130507\n",
      "Epoch: 29, Loss: 0.487183\n",
      "Epoch: 30, Loss: 0.211321\n",
      "Epoch: 31, Loss: 0.181469\n",
      "Epoch: 32, Loss: 0.358832\n",
      "Epoch: 33, Loss: 0.359586\n",
      "Epoch: 34, Loss: 0.035283\n",
      "Epoch: 35, Loss: 0.146537\n",
      "Epoch: 36, Loss: 0.081952\n",
      "Epoch: 37, Loss: 0.254822\n",
      "Epoch: 38, Loss: 0.107522\n",
      "Epoch: 39, Loss: 0.193717\n",
      "Epoch: 40, Loss: 0.058323\n",
      "Epoch: 41, Loss: 0.074934\n",
      "Epoch: 42, Loss: 0.081905\n",
      "Epoch: 43, Loss: 0.091087\n",
      "Epoch: 44, Loss: 0.083473\n",
      "Epoch: 45, Loss: 0.194399\n",
      "Epoch: 46, Loss: 0.107001\n",
      "Epoch: 47, Loss: 0.069170\n",
      "Epoch: 48, Loss: 0.212508\n",
      "Epoch: 49, Loss: 0.071377\n",
      "Epoch: 50, Loss: 0.058531\n",
      "Epoch: 51, Loss: 0.021517\n",
      "Epoch: 52, Loss: 0.149758\n",
      "Epoch: 53, Loss: 0.086235\n",
      "Epoch: 54, Loss: 0.026285\n",
      "Epoch: 55, Loss: 0.131527\n",
      "Epoch: 56, Loss: 0.068338\n",
      "Epoch: 57, Loss: 0.049730\n",
      "Epoch: 58, Loss: 0.065514\n",
      "Epoch: 59, Loss: 0.037632\n",
      "Epoch: 60, Loss: 0.042467\n",
      "Epoch: 61, Loss: 0.024383\n",
      "Epoch: 62, Loss: 0.062566\n",
      "Epoch: 63, Loss: 0.059422\n",
      "Epoch: 64, Loss: 0.152676\n",
      "Epoch: 65, Loss: 0.017566\n",
      "Epoch: 66, Loss: 0.026540\n",
      "Epoch: 67, Loss: 0.601573\n",
      "Epoch: 68, Loss: 0.030932\n",
      "Epoch: 69, Loss: 0.048299\n",
      "Epoch: 70, Loss: 0.056125\n",
      "Epoch: 71, Loss: 0.040140\n",
      "Epoch: 72, Loss: 0.008788\n",
      "Epoch: 73, Loss: 0.037157\n",
      "Epoch: 74, Loss: 0.029285\n",
      "Epoch: 75, Loss: 0.010817\n",
      "Epoch: 76, Loss: 0.027739\n",
      "Epoch: 77, Loss: 0.042180\n",
      "Epoch: 78, Loss: 0.009553\n",
      "Epoch: 79, Loss: 0.056408\n",
      "Epoch: 80, Loss: 0.022032\n",
      "Epoch: 81, Loss: 0.015178\n",
      "Epoch: 82, Loss: 0.033564\n",
      "Epoch: 83, Loss: 0.012919\n",
      "Epoch: 84, Loss: 0.021493\n",
      "Epoch: 85, Loss: 0.012883\n",
      "Epoch: 86, Loss: 0.013902\n",
      "Epoch: 87, Loss: 0.022920\n",
      "Epoch: 88, Loss: 0.013483\n",
      "Epoch: 89, Loss: 0.018439\n",
      "Epoch: 90, Loss: 0.020263\n",
      "Epoch: 91, Loss: 0.010561\n",
      "Epoch: 92, Loss: 0.026875\n",
      "Epoch: 93, Loss: 0.012758\n",
      "Epoch: 94, Loss: 0.016777\n",
      "Epoch: 95, Loss: 0.012141\n",
      "Epoch: 96, Loss: 0.014040\n",
      "Epoch: 97, Loss: 0.013233\n",
      "Epoch: 98, Loss: 0.022281\n",
      "Epoch: 99, Loss: 0.012170\n"
     ]
    }
   ],
   "source": [
    "learning_rate = 1e-2\n",
    "\n",
    "optimizer = optim.SGD(model.parameters(), lr=learning_rate)\n",
    "\n",
    "loss_fn = nn.NLLLoss()\n",
    "\n",
    "n_epochs = 100\n",
    "\n",
    "print(imgs.device)\n",
    "\n",
    "for epoch in range(n_epochs):\n",
    "    for imgs, labels in train_loader:\n",
    "        outputs = model(imgs.view(imgs.shape[0], -1))\n",
    "        loss = loss_fn(outputs, labels)\n",
    "\n",
    "        optimizer.zero_grad()\n",
    "        loss.backward()\n",
    "        optimizer.step()\n",
    "\n",
    "    print(\"Epoch: %d, Loss: %f\" % (epoch, float(loss)))"
   ]
  },
  {
   "cell_type": "markdown",
   "metadata": {},
   "source": [
    "值得注意的是上面的情况中, 先将cifar2转入CUDA, 之后再调用Dataloader, 之后再将imgs和labels转入CUDA. 虽然我感觉这个将imgs和labels转入CUDA的步骤应当是多余的, 但是这里需要它的存在就理解为需要吧."
   ]
  },
  {
   "cell_type": "code",
   "execution_count": null,
   "metadata": {},
   "outputs": [],
   "source": [
    "train_loader = torch.utils.data.DataLoader(cifar2, batch_size=64,\n",
    "                                           shuffle=False)\n",
    "\n",
    "correct = 0\n",
    "total = 0\n",
    "\n",
    "with torch.no_grad():\n",
    "    for imgs, labels in train_loader:\n",
    "        outputs = model(imgs.view(imgs.shape[0], -1))\n",
    "        _, predicted = torch.max(outputs, dim=1)\n",
    "        total += labels.shape[0]\n",
    "        correct += int((predicted == labels).sum())\n",
    "        \n",
    "print(\"Accuracy: %f\" % (correct / total))"
   ]
  },
  {
   "cell_type": "markdown",
   "metadata": {},
   "source": [
    "这段代码是用来计算模型在`cifar2`数据集上的准确率的。\n",
    "\n",
    "1. 首先，它创建了一个`DataLoader`实例`train_loader`，用于从`cifar2`数据集中批量地、顺序地获取数据。每个批次包含64个样本。\n",
    "\n",
    "2. 然后，它初始化了两个变量`correct`和`total`，用于记录模型预测正确的样本数和总样本数。\n",
    "\n",
    "3. 在`torch.no_grad()`上下文中，它遍历了`train_loader`中的每个批次。这个上下文表示在进行以下计算时，不会计算梯度，这可以节省内存，因为在评估模型时，我们通常不需要计算梯度。\n",
    "\n",
    "4. 对于每个批次，它首先使用`model`计算了输出`outputs`。`imgs.view(imgs.shape[0], -1)`是将每个图像张量展平为一维张量，因为这个模型期望的输入是一维张量。\n",
    "\n",
    "5. 然后，它使用`torch.max(outputs, dim=1)`获取了每个样本的预测类别`predicted`。`torch.max`返回每行的最大值和对应的索引，由于我们关心的是索引（即预测的类别），所以我们只取了第二个返回值。\n",
    "\n",
    "6. 接着，它更新了`total`和`correct`。`total`是通过加上当前批次的样本数来更新的，`correct`是通过加上当前批次预测正确的样本数来更新的。`predicted == labels`返回一个布尔张量，表示预测是否正确，然后使用`.sum()`计算了预测正确的样本数，最后使用`int()`将其转换为Python的整数。\n",
    "\n",
    "7. 最后，它计算了准确率，即预测正确的样本数除以总样本数，然后打印了这个准确率。\n",
    "\n",
    "> 创建DataLoader 👉 初始化计数器 👉 禁用梯度计算 👉 遍历每个批次 👉 计算模型输出 👉 获取预测类别 👉 更新总样本数和正确样本数 👉 计算并打印准确率"
   ]
  },
  {
   "cell_type": "code",
   "execution_count": 84,
   "metadata": {},
   "outputs": [
    {
     "name": "stdout",
     "output_type": "stream",
     "text": [
      "Accuracy: 0.820000\n"
     ]
    }
   ],
   "source": [
    "cifar2_val = [(img.to(device), torch.tensor(label).to(device)) for img, label in cifar2_val]\n",
    "\n",
    "val_loader = torch.utils.data.DataLoader(cifar2_val, batch_size=64,\n",
    "                                         shuffle=False)\n",
    "\n",
    "correct = 0\n",
    "total = 0\n",
    "\n",
    "with torch.no_grad():\n",
    "    for imgs, labels in val_loader:\n",
    "        outputs = model(imgs.view(imgs.shape[0], -1))\n",
    "        _, predicted = torch.max(outputs, dim=1)\n",
    "        total += labels.shape[0]\n",
    "        correct += int((predicted == labels).sum())\n",
    "        \n",
    "print(\"Accuracy: %f\" % (correct / total))"
   ]
  },
  {
   "cell_type": "code",
   "execution_count": null,
   "metadata": {},
   "outputs": [],
   "source": [
    "model = nn.Sequential(\n",
    "            nn.Linear(3072, 1024),\n",
    "            nn.Tanh(),\n",
    "            nn.Linear(1024, 512),\n",
    "            nn.Tanh(),\n",
    "            nn.Linear(512, 128),\n",
    "            nn.Tanh(),\n",
    "            nn.Linear(128, 2),\n",
    "            nn.LogSoftmax(dim=1))"
   ]
  },
  {
   "cell_type": "code",
   "execution_count": null,
   "metadata": {},
   "outputs": [],
   "source": [
    "model = nn.Sequential(\n",
    "            nn.Linear(3072, 1024),\n",
    "            nn.Tanh(),\n",
    "            nn.Linear(1024, 512),\n",
    "            nn.Tanh(),\n",
    "            nn.Linear(512, 128),\n",
    "            nn.Tanh(),\n",
    "            nn.Linear(128, 2))\n",
    "\n",
    "loss_fn = nn.CrossEntropyLoss()"
   ]
  },
  {
   "cell_type": "code",
   "execution_count": 88,
   "metadata": {},
   "outputs": [
    {
     "name": "stdout",
     "output_type": "stream",
     "text": [
      "Epoch: 0, Loss: 0.643245\n",
      "Epoch: 1, Loss: 0.365323\n",
      "Epoch: 2, Loss: 0.393448\n",
      "Epoch: 3, Loss: 0.858701\n",
      "Epoch: 4, Loss: 0.422100\n",
      "Epoch: 5, Loss: 0.655607\n",
      "Epoch: 6, Loss: 0.092933\n",
      "Epoch: 7, Loss: 0.373354\n",
      "Epoch: 8, Loss: 0.185177\n",
      "Epoch: 9, Loss: 0.460527\n",
      "Epoch: 10, Loss: 0.233466\n",
      "Epoch: 11, Loss: 0.312932\n",
      "Epoch: 12, Loss: 0.326700\n",
      "Epoch: 13, Loss: 0.185652\n",
      "Epoch: 14, Loss: 0.030974\n",
      "Epoch: 15, Loss: 0.250340\n",
      "Epoch: 16, Loss: 0.062179\n",
      "Epoch: 17, Loss: 0.069178\n",
      "Epoch: 18, Loss: 0.084300\n",
      "Epoch: 19, Loss: 0.250483\n",
      "Epoch: 20, Loss: 0.014147\n",
      "Epoch: 21, Loss: 0.165017\n",
      "Epoch: 22, Loss: 0.212048\n",
      "Epoch: 23, Loss: 0.046711\n",
      "Epoch: 24, Loss: 0.051985\n",
      "Epoch: 25, Loss: 0.026623\n",
      "Epoch: 26, Loss: 0.028496\n",
      "Epoch: 27, Loss: 0.020303\n",
      "Epoch: 28, Loss: 0.126234\n",
      "Epoch: 29, Loss: 0.038119\n",
      "Epoch: 30, Loss: 0.441577\n",
      "Epoch: 31, Loss: 0.015802\n",
      "Epoch: 32, Loss: 0.019013\n",
      "Epoch: 33, Loss: 0.054425\n",
      "Epoch: 34, Loss: 0.011222\n",
      "Epoch: 35, Loss: 0.004084\n",
      "Epoch: 36, Loss: 0.039883\n",
      "Epoch: 37, Loss: 0.004341\n",
      "Epoch: 38, Loss: 0.000873\n",
      "Epoch: 39, Loss: 0.004610\n",
      "Epoch: 40, Loss: 0.001602\n",
      "Epoch: 41, Loss: 0.035057\n",
      "Epoch: 42, Loss: 0.006830\n",
      "Epoch: 43, Loss: 0.000518\n",
      "Epoch: 44, Loss: 0.008495\n",
      "Epoch: 45, Loss: 0.000548\n",
      "Epoch: 46, Loss: 0.376000\n",
      "Epoch: 47, Loss: 0.005975\n",
      "Epoch: 48, Loss: 0.012989\n",
      "Epoch: 49, Loss: 0.003879\n",
      "Epoch: 50, Loss: 0.000938\n",
      "Epoch: 51, Loss: 0.000169\n",
      "Epoch: 52, Loss: 0.000034\n",
      "Epoch: 53, Loss: 0.014208\n",
      "Epoch: 54, Loss: 0.000185\n",
      "Epoch: 55, Loss: 0.000284\n",
      "Epoch: 56, Loss: 0.096026\n",
      "Epoch: 57, Loss: 0.062984\n",
      "Epoch: 58, Loss: 0.001508\n",
      "Epoch: 59, Loss: 0.003278\n",
      "Epoch: 60, Loss: 0.000249\n",
      "Epoch: 61, Loss: 0.000014\n",
      "Epoch: 62, Loss: 0.000763\n",
      "Epoch: 63, Loss: 0.004584\n",
      "Epoch: 64, Loss: 0.007343\n",
      "Epoch: 65, Loss: 0.001619\n",
      "Epoch: 66, Loss: 0.035733\n",
      "Epoch: 67, Loss: 0.012190\n",
      "Epoch: 68, Loss: 0.001138\n",
      "Epoch: 69, Loss: 0.000254\n",
      "Epoch: 70, Loss: 0.000780\n",
      "Epoch: 71, Loss: 0.000287\n",
      "Epoch: 72, Loss: 0.000545\n",
      "Epoch: 73, Loss: 0.000158\n",
      "Epoch: 74, Loss: 0.000158\n",
      "Epoch: 75, Loss: 0.000237\n",
      "Epoch: 76, Loss: 0.000063\n",
      "Epoch: 77, Loss: 0.000012\n",
      "Epoch: 78, Loss: 0.000085\n",
      "Epoch: 79, Loss: 0.000053\n",
      "Epoch: 80, Loss: 0.000151\n",
      "Epoch: 81, Loss: 0.000076\n",
      "Epoch: 82, Loss: 0.000032\n",
      "Epoch: 83, Loss: 0.000057\n",
      "Epoch: 84, Loss: 0.000005\n",
      "Epoch: 85, Loss: 0.000063\n",
      "Epoch: 86, Loss: 0.000153\n",
      "Epoch: 87, Loss: 0.000099\n",
      "Epoch: 88, Loss: 0.000009\n",
      "Epoch: 89, Loss: 0.000064\n",
      "Epoch: 90, Loss: 0.000122\n",
      "Epoch: 91, Loss: 0.000054\n",
      "Epoch: 92, Loss: 0.000016\n",
      "Epoch: 93, Loss: 0.000027\n",
      "Epoch: 94, Loss: 0.000054\n",
      "Epoch: 95, Loss: 0.000047\n",
      "Epoch: 96, Loss: 0.000045\n",
      "Epoch: 97, Loss: 0.000086\n",
      "Epoch: 98, Loss: 0.000160\n",
      "Epoch: 99, Loss: 0.000105\n"
     ]
    }
   ],
   "source": [
    "import torch\n",
    "import torch.nn as nn\n",
    "import torch.optim as optim\n",
    "\n",
    "train_loader = torch.utils.data.DataLoader(cifar2, batch_size=64,\n",
    "                                           shuffle=True)\n",
    "\n",
    "model = nn.Sequential(\n",
    "            nn.Linear(3072, 1024),\n",
    "            nn.Tanh(),\n",
    "            nn.Linear(1024, 512),\n",
    "            nn.Tanh(),\n",
    "            nn.Linear(512, 128),\n",
    "            nn.Tanh(),\n",
    "            nn.Linear(128, 2)).to(device)\n",
    "\n",
    "learning_rate = 1e-1\n",
    "\n",
    "optimizer = optim.SGD(model.parameters(), lr=learning_rate)\n",
    "\n",
    "loss_fn = nn.CrossEntropyLoss()\n",
    "\n",
    "n_epochs = 100\n",
    "\n",
    "for epoch in range(n_epochs):\n",
    "    for imgs, labels in train_loader:\n",
    "        outputs = model(imgs.view(imgs.shape[0], -1))\n",
    "        loss = loss_fn(outputs, labels)\n",
    "\n",
    "        optimizer.zero_grad()\n",
    "        loss.backward()\n",
    "        optimizer.step()\n",
    "\n",
    "    print(\"Epoch: %d, Loss: %f\" % (epoch, float(loss)))"
   ]
  },
  {
   "cell_type": "code",
   "execution_count": 89,
   "metadata": {},
   "outputs": [
    {
     "name": "stdout",
     "output_type": "stream",
     "text": [
      "Accuracy: 1.000000\n"
     ]
    }
   ],
   "source": [
    "train_loader = torch.utils.data.DataLoader(cifar2, batch_size=64,\n",
    "                                           shuffle=False)\n",
    "\n",
    "correct = 0\n",
    "total = 0\n",
    "\n",
    "with torch.no_grad():\n",
    "    for imgs, labels in train_loader:\n",
    "        outputs = model(imgs.view(imgs.shape[0], -1))\n",
    "        _, predicted = torch.max(outputs, dim=1)\n",
    "        total += labels.shape[0]\n",
    "        correct += int((predicted == labels).sum())\n",
    "        \n",
    "print(\"Accuracy: %f\" % (correct / total))"
   ]
  },
  {
   "cell_type": "code",
   "execution_count": 90,
   "metadata": {},
   "outputs": [
    {
     "name": "stdout",
     "output_type": "stream",
     "text": [
      "Accuracy: 0.822500\n"
     ]
    }
   ],
   "source": [
    "val_loader = torch.utils.data.DataLoader(cifar2_val, batch_size=64,\n",
    "                                         shuffle=False)\n",
    "\n",
    "correct = 0\n",
    "total = 0\n",
    "\n",
    "with torch.no_grad():\n",
    "    for imgs, labels in val_loader:\n",
    "        outputs = model(imgs.view(imgs.shape[0], -1))\n",
    "        _, predicted = torch.max(outputs, dim=1)\n",
    "        total += labels.shape[0]\n",
    "        correct += int((predicted == labels).sum())\n",
    "        \n",
    "print(\"Accuracy: %f\" % (correct / total))"
   ]
  }
 ],
 "metadata": {
  "kernelspec": {
   "display_name": "mytorch",
   "language": "python",
   "name": "python3"
  },
  "language_info": {
   "codemirror_mode": {
    "name": "ipython",
    "version": 3
   },
   "file_extension": ".py",
   "mimetype": "text/x-python",
   "name": "python",
   "nbconvert_exporter": "python",
   "pygments_lexer": "ipython3",
   "version": "3.11.5"
  }
 },
 "nbformat": 4,
 "nbformat_minor": 2
}
