{
 "cells": [
  {
   "cell_type": "markdown",
   "metadata": {},
   "source": [
    "# 1. data normalized"
   ]
  },
  {
   "cell_type": "code",
   "execution_count": 103,
   "metadata": {},
   "outputs": [],
   "source": [
    "import numpy as np\n",
    "import torch"
   ]
  },
  {
   "cell_type": "code",
   "execution_count": 104,
   "metadata": {},
   "outputs": [],
   "source": [
    "torch.set_printoptions(edgeitems = 2, threshold = 50)"
   ]
  },
  {
   "cell_type": "markdown",
   "metadata": {},
   "source": [
    "👆\n",
    "\n",
    "> 更改打印设置\n",
    "\n",
    "这行代码是设置PyTorch的打印选项。\n",
    "\n",
    "`torch.set_printoptions(edgeitems=2, threshold=50)`这行代码做了两件事：\n",
    "\n",
    "1. `edgeitems=2`：这个参数设置了当打印张量时，每个维度的开始和结束部分打印多少个元素。在这个例子中，每个维度的开始和结束部分都会打印2个元素。\n",
    "\n",
    "2. `threshold=50`：这个参数设置了张量的总元素数量超过多少时，张量会被“收缩”为一个更紧凑的格式。在这个例子中，如果张量的总元素数量超过50，那么张量就会被收缩为一个更紧凑的格式。\n",
    "\n",
    "这些设置可以帮助你更好地查看和理解大型张量的数据。"
   ]
  },
  {
   "cell_type": "code",
   "execution_count": 105,
   "metadata": {},
   "outputs": [],
   "source": [
    "import imageio.v2 as imageio"
   ]
  },
  {
   "cell_type": "markdown",
   "metadata": {},
   "source": [
    "👆\n",
    "\n",
    "```python\n",
    ">>> import imageio\n",
    ">>> img_arr = imageio.imread('../data/p1ch4/image-dog/bobby.jpg')\n",
    "/tmp/ipykernel_1605/2656173173.py:1: DeprecationWarning: Starting with ImageIO v3 the behavior of this function will switch to that of iio.v3.imread. To keep the current behavior (and make this warning disappear) use `import imageio.v2 as imageio` or call `imageio.v2.imread` directly.\n",
    "  img_arr = imageio.imread('../data/p1ch4/image-dog/bobby.jpg')\n",
    "```\n",
    "\n",
    "对此警告，它告诉你在ImageIO版本3中，`imread`函数的行为将会改变。\n",
    "\n",
    "警告的具体内容是：从ImageIO v3开始，这个函数的行为将切换为`iio.v3.imread`的行为。如果你想保持当前的行为（并消除这个警告），你可以使用`import imageio.v2 as imageio`或直接调用`imageio.v2.imread`。\n",
    "\n",
    "通过以下方式可以消除这个警告：\n",
    "\n",
    "```python\n",
    "import imageio.v2 as imageio\n",
    "\n",
    "img_arr = imageio.imread('../data/p1ch4/image-dog/bobby.jpg')\n",
    "```\n",
    "\n",
    "这样，你的代码就会继续使用ImageIO v2版本的`imread`函数，而不会在升级到ImageIO v3后改变行为。\n"
   ]
  },
  {
   "cell_type": "code",
   "execution_count": 106,
   "metadata": {},
   "outputs": [
    {
     "data": {
      "text/plain": [
       "(720, 1280, 3)"
      ]
     },
     "execution_count": 106,
     "metadata": {},
     "output_type": "execute_result"
    }
   ],
   "source": [
    "img_arr = imageio.imread('../data/p1ch4/image-dog/bobby.jpg')\n",
    "img_arr.shape"
   ]
  },
  {
   "cell_type": "markdown",
   "metadata": {},
   "source": [
    "👆\n",
    "\n",
    "```bash\n",
    "(720, 1280, 3)\n",
    "```\n",
    "\n",
    "对此明显的, 最后的`3`是色彩空间, 所以其维度顺序与之前所见的明显是不同的, 由此可以了解到, 前两个哪个是高度, 哪个是宽度也是不清楚的.\n",
    "\n",
    "> 另外, 在部分图片中还会有第4维度, 即不透明度"
   ]
  },
  {
   "cell_type": "code",
   "execution_count": 107,
   "metadata": {},
   "outputs": [
    {
     "data": {
      "text/plain": [
       "dtype('uint8')"
      ]
     },
     "execution_count": 107,
     "metadata": {},
     "output_type": "execute_result"
    }
   ],
   "source": [
    "img_arr.dtype"
   ]
  },
  {
   "cell_type": "code",
   "execution_count": 108,
   "metadata": {},
   "outputs": [],
   "source": [
    "img = torch.from_numpy(img_arr)"
   ]
  },
  {
   "cell_type": "code",
   "execution_count": 109,
   "metadata": {},
   "outputs": [
    {
     "data": {
      "text/plain": [
       "(720, 1280, 3)"
      ]
     },
     "execution_count": 109,
     "metadata": {},
     "output_type": "execute_result"
    }
   ],
   "source": [
    "out = img.permute(2, 0, 1) # 用于将三个维度换位\n",
    "img_arr.shape"
   ]
  },
  {
   "cell_type": "code",
   "execution_count": 110,
   "metadata": {},
   "outputs": [],
   "source": [
    "batch_size = 3\n",
    "batch = torch.zeros(batch_size, 3, 256, 256, dtype = torch.uint8)"
   ]
  },
  {
   "cell_type": "markdown",
   "metadata": {},
   "source": [
    "👆\n",
    "\n",
    "`batch`准备了了三个图片, 每个图片为一个`3*256*256`的张量.\n",
    "\n",
    "---\n",
    "\n",
    "接下来就是读进3个图片, 即将三个图片读入`batch`中.\n",
    "\n",
    "👇"
   ]
  },
  {
   "cell_type": "code",
   "execution_count": 111,
   "metadata": {},
   "outputs": [],
   "source": [
    "import os"
   ]
  },
  {
   "cell_type": "code",
   "execution_count": 112,
   "metadata": {},
   "outputs": [],
   "source": [
    "data_dir = '../data/p1ch4/image-cats/'"
   ]
  },
  {
   "cell_type": "code",
   "execution_count": 113,
   "metadata": {},
   "outputs": [],
   "source": [
    "filenames = [name for name in os.listdir(data_dir) \n",
    "             if os.path.splitext(name)[-1] == '.png']"
   ]
  },
  {
   "cell_type": "markdown",
   "metadata": {},
   "source": [
    "👆\n",
    "\n",
    "1. `os.listdir(data_dir)`：这个函数会返回指定目录下的所有文件和目录名的列表。\n",
    "\n",
    "2. `os.path.splitext(name)`：这个函数会将文件名和扩展名分开。它返回一个元组，元组的第一个元素是文件名，第二个元素是扩展名。例如，`os.path.splitext('example.png')`会返回`('example', '.png')`。\n",
    "\n",
    "3. `os.path.splitext(name)[-1] == '.png'`：这个表达式会检查文件的扩展名是否为`.png`。如果是，就返回True，否则返回False。\n",
    "\n",
    "4. `[name for name in os.listdir(data_dir) if os.path.splitext(name)[-1] == '.png']`：这是一个列表推导式，它会遍历`data_dir`目录下的所有文件和目录名，如果文件的扩展名为`.png`，就将文件名添加到列表中。\n",
    "\n",
    "所以，这段代码的结果是一个列表，列表中的元素是`data_dir`目录下所有以`.png`为后缀的文件的文件名。"
   ]
  },
  {
   "cell_type": "code",
   "execution_count": 114,
   "metadata": {},
   "outputs": [
    {
     "data": {
      "text/plain": [
       "['cat1.png', 'cat2.png', 'cat3.png']"
      ]
     },
     "execution_count": 114,
     "metadata": {},
     "output_type": "execute_result"
    }
   ],
   "source": [
    "filenames"
   ]
  },
  {
   "cell_type": "code",
   "execution_count": 115,
   "metadata": {},
   "outputs": [],
   "source": [
    "for i, filename in enumerate(filenames):\n",
    "    img_arr = imageio.imread(os.path.join(data_dir, filename)) # 把图片文件读到img_arr里边 \n",
    "    img_t = torch.from_numpy(img_arr) # 转tensor\n",
    "    img_t = img_t.permute(2, 0, 1) # 换位置\n",
    "    img_t = img_t[:3] # 为了保险起见, 因为部分图片有第四维度, 所以只取前三个\n",
    "    batch[i] = img_t "
   ]
  },
  {
   "cell_type": "markdown",
   "metadata": {},
   "source": [
    "👆\n",
    "\n",
    "### `enumerate`\n",
    "\n",
    "`enmuerte`函数的作用是将一个可迭代对象, 如下:\n",
    "\n",
    "```python\n",
    "for i, filename in enumerate(filenames):\n",
    "    print(i, filename)\n",
    "```\n",
    "\n",
    "返回的结果是:\n",
    "\n",
    "```python\n",
    "0 cat1.png\n",
    "1 cat2.png\n",
    "2 cat3.png\n",
    "```\n",
    "\n",
    "---\n",
    "\n",
    "如果把`index`去掉:\n",
    "\n",
    "```python\n",
    "for filename in filenames:\n",
    "    print(filename)\n",
    "```\n",
    "\n",
    "返回的结果是:\n",
    "\n",
    "```python\n",
    "cat1.png\n",
    "cat2.png\n",
    "cat3.png\n",
    "```\n",
    "\n",
    "---\n",
    "\n",
    "也就是, `enumerate`函数的作用是将一个可迭代对象, 返回一个`index`和`value`的元组, 即如果需要`index`就要用`enumerate0`.\n",
    "\n",
    "### `img_t[:3]`\n",
    "\n",
    "这里指的前三个维度不是指`img_t.shape`的前三个数, 而是指的是对于`img_t`的第一个维度的前三个维度.\n",
    "\n",
    "- 第一个维度即RGB的维度, 也就是`3*256*256`中的`3`\n",
    "- 而部分图片中还会有第4维度, 即不透明度\n",
    "- 由此只取前三个即`RGB`, 而不要不透明度\n",
    "\n",
    "也即是:\n",
    "\n",
    "当`img_t.shape`的第一个维度大于等于3时, 取前三个维度, 否则取全部.\n",
    "\n",
    "```python\n",
    ">>> img_t.shape\n",
    "torch.Size([4, 256, 256])\n",
    ">>> img_t[:3].shape\n",
    "torch.Size([3, 256, 256])\n",
    "```\n",
    "\n",
    "### `batch[i]`\n",
    "\n",
    "`batch`在之前以近乎决定了3个维度, 也就是3个图片, 这里就让这三个图片读进了`batch`中. 也就让它们都在了同一个张量中."
   ]
  },
  {
   "cell_type": "code",
   "execution_count": 116,
   "metadata": {},
   "outputs": [],
   "source": [
    "batch = batch.float() # 模型都需要浮点型 (之前指整数型)\n",
    "batch /= 255.0 # 模型更喜欢0-1, 所以除掉255"
   ]
  },
  {
   "cell_type": "code",
   "execution_count": 117,
   "metadata": {},
   "outputs": [
    {
     "data": {
      "text/plain": [
       "torch.Size([3, 3, 256, 256])"
      ]
     },
     "execution_count": 117,
     "metadata": {},
     "output_type": "execute_result"
    }
   ],
   "source": [
    "batch.shape"
   ]
  },
  {
   "cell_type": "code",
   "execution_count": 118,
   "metadata": {},
   "outputs": [],
   "source": [
    "n_channels = batch.shape[1]\n",
    "for c in range(n_channels):\n",
    "    mean = torch.mean(batch[:, c])\n",
    "    std = torch.std(batch[:, c])\n",
    "    batch[:, c] = (batch[:, c] - mean) /std"
   ]
  },
  {
   "cell_type": "markdown",
   "metadata": {},
   "source": [
    "👆\n",
    "\n",
    "对RGB的通道进行标准化处理, 结果将是`batch[:,i].mean()`等于或近似等于0, `batch[:,i].std()`等于或近似等于1."
   ]
  },
  {
   "cell_type": "code",
   "execution_count": 126,
   "metadata": {},
   "outputs": [
    {
     "data": {
      "text/plain": [
       "(tensor(1.3908e-07), tensor(1.))"
      ]
     },
     "execution_count": 126,
     "metadata": {},
     "output_type": "execute_result"
    }
   ],
   "source": [
    "batch[:,2].mean(), batch[:,2].std()"
   ]
  }
 ],
 "metadata": {
  "kernelspec": {
   "display_name": "mytorch",
   "language": "python",
   "name": "python3"
  },
  "language_info": {
   "codemirror_mode": {
    "name": "ipython",
    "version": 3
   },
   "file_extension": ".py",
   "mimetype": "text/x-python",
   "name": "python",
   "nbconvert_exporter": "python",
   "pygments_lexer": "ipython3",
   "version": "3.11.5"
  }
 },
 "nbformat": 4,
 "nbformat_minor": 2
}
